{
 "cells": [
  {
   "cell_type": "code",
   "execution_count": 1,
   "id": "6fedbb7a-5407-490b-b39e-e59dd50d6a92",
   "metadata": {},
   "outputs": [],
   "source": [
    "Dictionary  = { 'science': 1, 'english' : 2, 'maths': 3}"
   ]
  },
  {
   "cell_type": "code",
   "execution_count": 2,
   "id": "f670de3d-de99-4e5b-b8d9-028ac9fb0c44",
   "metadata": {},
   "outputs": [
    {
     "data": {
      "text/plain": [
       "{'science': 1, 'english': 2, 'maths': 3}"
      ]
     },
     "execution_count": 2,
     "metadata": {},
     "output_type": "execute_result"
    }
   ],
   "source": [
    "Dictionary"
   ]
  },
  {
   "cell_type": "code",
   "execution_count": 5,
   "id": "690974de-4e4e-4e38-a9dc-067455d56dbe",
   "metadata": {},
   "outputs": [],
   "source": [
    "Sets = {45,3,4,23,23,234,32}"
   ]
  },
  {
   "cell_type": "code",
   "execution_count": 6,
   "id": "43596ebc-d38d-455b-926a-8593fed493a3",
   "metadata": {},
   "outputs": [
    {
     "data": {
      "text/plain": [
       "{3, 4, 23, 32, 45, 234}"
      ]
     },
     "execution_count": 6,
     "metadata": {},
     "output_type": "execute_result"
    }
   ],
   "source": [
    "Sets"
   ]
  },
  {
   "cell_type": "markdown",
   "id": "2ac4e421-ba50-41df-92b3-0d69c1f91ccd",
   "metadata": {},
   "source": [
    "# 1. Merge Two Dictionaries"
   ]
  },
  {
   "cell_type": "code",
   "execution_count": 5,
   "id": "b3a3345d-bb6b-466b-a828-05a11146451f",
   "metadata": {},
   "outputs": [],
   "source": [
    "cars = {'toyoto':14, 'skoda':27, 'benz':7, 'jaguar':5}\n",
    "\n",
    "bikes = {'mt15':12, 'r15': 12, 'royalEnfield':4, 'pulsar':5}"
   ]
  },
  {
   "cell_type": "code",
   "execution_count": 6,
   "id": "03ea5622-33f4-4337-bac5-95b52fb81dde",
   "metadata": {},
   "outputs": [],
   "source": [
    "Vehicles = {}"
   ]
  },
  {
   "cell_type": "code",
   "execution_count": 7,
   "id": "9ba207af-7630-4d84-9285-fdcff1eeb48d",
   "metadata": {},
   "outputs": [],
   "source": [
    "Vehicles.update(cars)\n",
    "Vehicles.update(bikes)"
   ]
  },
  {
   "cell_type": "code",
   "execution_count": 8,
   "id": "d75c48ed-bde9-4262-8a9e-df3569ed6218",
   "metadata": {},
   "outputs": [
    {
     "data": {
      "text/plain": [
       "{'toyoto': 14,\n",
       " 'skoda': 27,\n",
       " 'benz': 7,\n",
       " 'jaguar': 5,\n",
       " 'mt15': 12,\n",
       " 'r15': 12,\n",
       " 'royalEnfield': 4,\n",
       " 'pulsar': 5}"
      ]
     },
     "execution_count": 8,
     "metadata": {},
     "output_type": "execute_result"
    }
   ],
   "source": [
    "Vehicles"
   ]
  },
  {
   "cell_type": "markdown",
   "id": "3f4fb737-e545-4db2-aa9f-6017b9e92846",
   "metadata": {},
   "source": [
    "# 2. Find the frequency of elements in a dictionary"
   ]
  },
  {
   "cell_type": "code",
   "execution_count": 11,
   "id": "ee9abc7a-1f4e-4d5e-9994-3d4b1570b863",
   "metadata": {},
   "outputs": [
    {
     "name": "stdout",
     "output_type": "stream",
     "text": [
      "{14: 1, 27: 1, 7: 1, 5: 2, 12: 2, 4: 1}\n"
     ]
    }
   ],
   "source": [
    "freq = {}\n",
    "\n",
    "for i in Vehicles.values():\n",
    "    if i in freq:\n",
    "        freq[i] += 1\n",
    "    else:\n",
    "        freq[i] = 1\n",
    "print(freq)"
   ]
  },
  {
   "cell_type": "code",
   "execution_count": null,
   "id": "4d163b6a-9603-4e5c-9ad0-c416cc05d978",
   "metadata": {},
   "outputs": [],
   "source": []
  },
  {
   "cell_type": "code",
   "execution_count": null,
   "id": "31c924f5-5b1d-4885-8e5b-01c8f086b3b1",
   "metadata": {},
   "outputs": [],
   "source": []
  },
  {
   "cell_type": "markdown",
   "id": "ea80a55e-d1ac-475c-8bb3-7cf74cc26038",
   "metadata": {},
   "source": [
    "# 3. Sort a dictionary by values"
   ]
  },
  {
   "cell_type": "code",
   "execution_count": null,
   "id": "517103bb-cae5-4afc-9aff-e33a34dc983b",
   "metadata": {},
   "outputs": [],
   "source": [
    "data = {'a':2, 'b':3, 'c':2, 'd':4, 'e': 3, 'f':2}"
   ]
  },
  {
   "cell_type": "code",
   "execution_count": 1,
   "id": "7a11ad82-ec88-4f54-993f-63f29dbc551d",
   "metadata": {},
   "outputs": [
    {
     "name": "stdout",
     "output_type": "stream",
     "text": [
      "{'a': 2, 'c': 2, 'f': 2, 'b': 3, 'e': 3, 'd': 4}\n"
     ]
    }
   ],
   "source": [
    "data = {'a':2, 'b':3, 'c':2, 'd':4, 'e': 3, 'f':2}\n",
    "sorted_dictionary = {}\n",
    "\n",
    "while data:\n",
    "    min_key= None\n",
    "    min_value = float('inf')\n",
    "\n",
    "    for key, value in data.items():\n",
    "        if  value < min_value:\n",
    "            min_value = value\n",
    "            min_key = key\n",
    "\n",
    "\n",
    "    sorted_dictionary[min_key] = min_value\n",
    "    \n",
    "    del data[min_key]\n",
    "\n",
    "print(sorted_dictionary)"
   ]
  },
  {
   "cell_type": "code",
   "execution_count": 2,
   "id": "9488f5b3-7530-4947-9c7b-fff8c60cb20e",
   "metadata": {},
   "outputs": [
    {
     "name": "stdout",
     "output_type": "stream",
     "text": [
      "{'a': 2, 'c': 2, 'f': 2, 'b': 3, 'e': 3, 'd': 4}\n"
     ]
    }
   ],
   "source": [
    "print(sorted_dictionary)"
   ]
  },
  {
   "cell_type": "code",
   "execution_count": null,
   "id": "b3c3922d-da17-4bba-b03d-e394996f0d3c",
   "metadata": {},
   "outputs": [],
   "source": []
  },
  {
   "cell_type": "code",
   "execution_count": null,
   "id": "391c4896-6b1f-4887-96f3-0e3caabf3841",
   "metadata": {},
   "outputs": [],
   "source": []
  },
  {
   "cell_type": "markdown",
   "id": "d30ce6fc-c51f-437a-b306-d8b78614191a",
   "metadata": {},
   "source": [
    "# 4. Get the Keys and Values of a dictionary Seperately"
   ]
  },
  {
   "cell_type": "code",
   "execution_count": 9,
   "id": "0741a2c8-a504-4f21-8992-06579858ee0a",
   "metadata": {},
   "outputs": [
    {
     "name": "stdout",
     "output_type": "stream",
     "text": [
      "toyoto\n",
      "skoda\n",
      "benz\n",
      "jaguar\n",
      "mt15\n",
      "r15\n",
      "royalEnfield\n",
      "pulsar\n"
     ]
    }
   ],
   "source": [
    "for i in Vehicles.keys():\n",
    "    print(i)"
   ]
  },
  {
   "cell_type": "code",
   "execution_count": 10,
   "id": "041b7a62-f949-4442-b31b-c485c892b938",
   "metadata": {},
   "outputs": [
    {
     "name": "stdout",
     "output_type": "stream",
     "text": [
      "14\n",
      "27\n",
      "7\n",
      "5\n",
      "12\n",
      "12\n",
      "4\n",
      "5\n"
     ]
    }
   ],
   "source": [
    "for i in Vehicles.values():\n",
    "    print(i)"
   ]
  },
  {
   "cell_type": "code",
   "execution_count": null,
   "id": "bc8d47e9-0d74-4276-89d5-04b6311385ed",
   "metadata": {},
   "outputs": [],
   "source": []
  },
  {
   "cell_type": "markdown",
   "id": "57bb2f73-9644-4e00-b32a-e3273c6118ec",
   "metadata": {},
   "source": [
    "# 5. Check if a Key exists in a dictionary or not"
   ]
  },
  {
   "cell_type": "code",
   "execution_count": 15,
   "id": "4095e03a-a0cc-44fd-a9cb-3b3f5c3e574e",
   "metadata": {},
   "outputs": [
    {
     "name": "stdin",
     "output_type": "stream",
     "text": [
      " mt15\n"
     ]
    },
    {
     "name": "stdout",
     "output_type": "stream",
     "text": [
      "yes the key is present in the dict\n"
     ]
    }
   ],
   "source": [
    "check_key = input()\n",
    "\n",
    "is_there = True\n",
    "\n",
    "for key in Vehicles:\n",
    "    if check_key in Vehicles.keys():\n",
    "        continue\n",
    "    else:\n",
    "        is_there = False\n",
    "        break\n",
    "\n",
    "if is_there:\n",
    "    print(\"yes the key is present in the dict\")\n",
    "else:\n",
    "    print(\"no the key is not present in the dict\")"
   ]
  },
  {
   "cell_type": "code",
   "execution_count": null,
   "id": "12d2dbee-31dd-4048-be45-c3d487802194",
   "metadata": {},
   "outputs": [],
   "source": []
  },
  {
   "cell_type": "code",
   "execution_count": null,
   "id": "775b7745-e649-41b4-9f76-a14e595d00f1",
   "metadata": {},
   "outputs": [],
   "source": []
  },
  {
   "cell_type": "code",
   "execution_count": null,
   "id": "45a577b0-fc9d-45a9-986b-5b9db8b7bfd9",
   "metadata": {},
   "outputs": [],
   "source": []
  },
  {
   "cell_type": "markdown",
   "id": "b74efa92-6d5e-4c8a-8c33-b250d5b26e95",
   "metadata": {},
   "source": [
    "# 6. Remove a key from a Dictionary"
   ]
  },
  {
   "cell_type": "code",
   "execution_count": 16,
   "id": "d792b165-5eda-43ca-bf4f-45c0efc8decd",
   "metadata": {},
   "outputs": [
    {
     "data": {
      "text/plain": [
       "{'toyoto': 14,\n",
       " 'skoda': 27,\n",
       " 'benz': 7,\n",
       " 'jaguar': 5,\n",
       " 'mt15': 12,\n",
       " 'r15': 12,\n",
       " 'royalEnfield': 4,\n",
       " 'pulsar': 5}"
      ]
     },
     "execution_count": 16,
     "metadata": {},
     "output_type": "execute_result"
    }
   ],
   "source": [
    "Vehicles"
   ]
  },
  {
   "cell_type": "code",
   "execution_count": 18,
   "id": "4cdbc18d-ca91-4b4e-b327-d93161478011",
   "metadata": {},
   "outputs": [
    {
     "data": {
      "text/plain": [
       "14"
      ]
     },
     "execution_count": 18,
     "metadata": {},
     "output_type": "execute_result"
    }
   ],
   "source": [
    "Vehicles.pop(\"toyoto\")"
   ]
  },
  {
   "cell_type": "code",
   "execution_count": 19,
   "id": "0b1ec179-e174-4d45-a450-bf4a557bd238",
   "metadata": {},
   "outputs": [
    {
     "data": {
      "text/plain": [
       "{'skoda': 27,\n",
       " 'benz': 7,\n",
       " 'jaguar': 5,\n",
       " 'mt15': 12,\n",
       " 'r15': 12,\n",
       " 'royalEnfield': 4,\n",
       " 'pulsar': 5}"
      ]
     },
     "execution_count": 19,
     "metadata": {},
     "output_type": "execute_result"
    }
   ],
   "source": [
    "Vehicles"
   ]
  },
  {
   "cell_type": "code",
   "execution_count": null,
   "id": "33184d7b-f2d4-4fae-89ec-482d11b8a07f",
   "metadata": {},
   "outputs": [],
   "source": []
  },
  {
   "cell_type": "markdown",
   "id": "1dfa8d61-7356-4af9-808c-e39fc75f6003",
   "metadata": {},
   "source": [
    "# 7. Find the union of two sets"
   ]
  },
  {
   "cell_type": "code",
   "execution_count": null,
   "id": "2e3028cd-1ac9-4ee8-8c10-df97b12a3923",
   "metadata": {},
   "outputs": [],
   "source": [
    "s = {}"
   ]
  },
  {
   "cell_type": "code",
   "execution_count": 21,
   "id": "a64bc706-b369-4d20-b0dd-1cee101a80be",
   "metadata": {},
   "outputs": [],
   "source": [
    "set1 = { 1,2,3,}\n",
    "set2 = {3,4,5,6}"
   ]
  },
  {
   "cell_type": "code",
   "execution_count": 22,
   "id": "edcd35d3-e374-4d83-8753-7ba8ebbd7236",
   "metadata": {},
   "outputs": [
    {
     "data": {
      "text/plain": [
       "{1, 2, 3, 4, 5, 6}"
      ]
     },
     "execution_count": 22,
     "metadata": {},
     "output_type": "execute_result"
    }
   ],
   "source": [
    "set1.union(set2)"
   ]
  },
  {
   "cell_type": "code",
   "execution_count": null,
   "id": "836997a5-67eb-4b0b-90e0-68cdf2622bf5",
   "metadata": {},
   "outputs": [],
   "source": []
  },
  {
   "cell_type": "markdown",
   "id": "12acc8ac-9fe9-4e1c-bbf7-3bb7d9c06e93",
   "metadata": {},
   "source": [
    "# 8. Find the intersection of two Sets"
   ]
  },
  {
   "cell_type": "code",
   "execution_count": 23,
   "id": "1016a437-5269-4e93-9d6d-65c7d1f31d81",
   "metadata": {},
   "outputs": [
    {
     "data": {
      "text/plain": [
       "{3}"
      ]
     },
     "execution_count": 23,
     "metadata": {},
     "output_type": "execute_result"
    }
   ],
   "source": [
    "set1.intersection(set2)"
   ]
  },
  {
   "cell_type": "code",
   "execution_count": null,
   "id": "6ea1f04d-09e8-4e8c-bf45-1ecac29f28c5",
   "metadata": {},
   "outputs": [],
   "source": []
  },
  {
   "cell_type": "code",
   "execution_count": null,
   "id": "e23ba7c6-c21b-4fcc-985f-c0342e455e58",
   "metadata": {},
   "outputs": [],
   "source": []
  },
  {
   "cell_type": "markdown",
   "id": "19051691-3418-4f0b-8861-03ec23da4258",
   "metadata": {},
   "source": [
    "# 9. Find the difference between two sets"
   ]
  },
  {
   "cell_type": "code",
   "execution_count": 24,
   "id": "cc14b085-5842-4945-9ba2-e74bc2c75fe8",
   "metadata": {},
   "outputs": [
    {
     "data": {
      "text/plain": [
       "{1, 2}"
      ]
     },
     "execution_count": 24,
     "metadata": {},
     "output_type": "execute_result"
    }
   ],
   "source": [
    "set1.difference(set2)"
   ]
  },
  {
   "cell_type": "code",
   "execution_count": 25,
   "id": "8c11cb09-7d5a-4105-9f2c-53e57e05b546",
   "metadata": {},
   "outputs": [
    {
     "data": {
      "text/plain": [
       "{4, 5, 6}"
      ]
     },
     "execution_count": 25,
     "metadata": {},
     "output_type": "execute_result"
    }
   ],
   "source": [
    "set2.difference(set1)"
   ]
  },
  {
   "cell_type": "code",
   "execution_count": null,
   "id": "316bc0e5-0df5-4f60-ba54-0d11813db61e",
   "metadata": {},
   "outputs": [],
   "source": []
  },
  {
   "cell_type": "markdown",
   "id": "0f22e33a-90ec-475a-945b-22e023ab0309",
   "metadata": {},
   "source": [
    "# 10. Check if a set is subset of another set"
   ]
  },
  {
   "cell_type": "code",
   "execution_count": 26,
   "id": "f3aaf525-aba3-4230-9a8c-3fe8ad60f4d5",
   "metadata": {},
   "outputs": [
    {
     "data": {
      "text/plain": [
       "False"
      ]
     },
     "execution_count": 26,
     "metadata": {},
     "output_type": "execute_result"
    }
   ],
   "source": [
    "set1.issubset(set2)"
   ]
  },
  {
   "cell_type": "code",
   "execution_count": 27,
   "id": "24c54d8e-feb4-41bb-bda0-05a198cd9829",
   "metadata": {},
   "outputs": [
    {
     "data": {
      "text/plain": [
       "{1, 2, 3}"
      ]
     },
     "execution_count": 27,
     "metadata": {},
     "output_type": "execute_result"
    }
   ],
   "source": [
    "set1"
   ]
  },
  {
   "cell_type": "code",
   "execution_count": 28,
   "id": "ec787ce1-dd34-4b3c-affe-897451e60c80",
   "metadata": {},
   "outputs": [
    {
     "data": {
      "text/plain": [
       "{3, 4, 5, 6}"
      ]
     },
     "execution_count": 28,
     "metadata": {},
     "output_type": "execute_result"
    }
   ],
   "source": [
    "set2"
   ]
  },
  {
   "cell_type": "code",
   "execution_count": 29,
   "id": "2f081193-a0e1-4845-83c1-b3001ae3bdae",
   "metadata": {},
   "outputs": [],
   "source": [
    "set3 = {1,2,3,4,5,6,7,8,9,10}"
   ]
  },
  {
   "cell_type": "code",
   "execution_count": 30,
   "id": "e2abbd90-c57d-4129-8109-a183a51fc94e",
   "metadata": {},
   "outputs": [
    {
     "data": {
      "text/plain": [
       "True"
      ]
     },
     "execution_count": 30,
     "metadata": {},
     "output_type": "execute_result"
    }
   ],
   "source": [
    "set1.issubset(set3)"
   ]
  },
  {
   "cell_type": "code",
   "execution_count": null,
   "id": "5b5d62d2-3fb2-47f5-9348-335d2e87703c",
   "metadata": {},
   "outputs": [],
   "source": []
  }
 ],
 "metadata": {
  "kernelspec": {
   "display_name": "Python 3 (ipykernel)",
   "language": "python",
   "name": "python3"
  },
  "language_info": {
   "codemirror_mode": {
    "name": "ipython",
    "version": 3
   },
   "file_extension": ".py",
   "mimetype": "text/x-python",
   "name": "python",
   "nbconvert_exporter": "python",
   "pygments_lexer": "ipython3",
   "version": "3.11.7"
  }
 },
 "nbformat": 4,
 "nbformat_minor": 5
}
