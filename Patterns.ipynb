{
 "cells": [
  {
   "cell_type": "markdown",
   "id": "25b61da0-46b1-435a-9874-e71eb86b5a4d",
   "metadata": {},
   "source": [
    "# 1. Print a Right-angled Triangle pattern."
   ]
  },
  {
   "cell_type": "code",
   "execution_count": 6,
   "id": "ffc2747b-21fe-4388-8a2c-17b3336e7de3",
   "metadata": {},
   "outputs": [
    {
     "name": "stdout",
     "output_type": "stream",
     "text": [
      "*\n",
      "**\n",
      "***\n",
      "****\n"
     ]
    }
   ],
   "source": [
    "for i in range(1,5):\n",
    "    print('*' * i)"
   ]
  },
  {
   "cell_type": "code",
   "execution_count": 3,
   "id": "8f30a97e-4035-4c33-b3ef-4cce2ae8cb65",
   "metadata": {},
   "outputs": [],
   "source": [
    "def rightangle(num):\n",
    "    for i in range(num):\n",
    "        print('*' * i)"
   ]
  },
  {
   "cell_type": "code",
   "execution_count": 5,
   "id": "9cdacf75-ece3-422b-a724-981f2b85eb8a",
   "metadata": {},
   "outputs": [
    {
     "name": "stdout",
     "output_type": "stream",
     "text": [
      "\n",
      "*\n",
      "**\n",
      "***\n",
      "****\n"
     ]
    }
   ],
   "source": [
    "rightangle(5)"
   ]
  },
  {
   "cell_type": "markdown",
   "id": "1306c61b-5dc5-4ee0-bc47-689906a93e46",
   "metadata": {},
   "source": [
    "# 2. Print an inverted right-angled triangle."
   ]
  },
  {
   "cell_type": "code",
   "execution_count": 7,
   "id": "8e877689-b095-4f70-9c68-ffee13369da9",
   "metadata": {},
   "outputs": [],
   "source": [
    "def invertedright(num):\n",
    "    for i in range(num, 0, -1):\n",
    "        print('*' * i)"
   ]
  },
  {
   "cell_type": "code",
   "execution_count": 8,
   "id": "ff99fcab-4a59-48cd-ae10-a0df5cb5743d",
   "metadata": {},
   "outputs": [
    {
     "name": "stdout",
     "output_type": "stream",
     "text": [
      "*****\n",
      "****\n",
      "***\n",
      "**\n",
      "*\n"
     ]
    }
   ],
   "source": [
    "invertedright(5)"
   ]
  },
  {
   "cell_type": "markdown",
   "id": "f098b41a-e23d-431f-b77c-687cce5195fb",
   "metadata": {},
   "source": [
    "# 3. Print a pyramid pattern."
   ]
  },
  {
   "cell_type": "code",
   "execution_count": 9,
   "id": "37728227-fa14-42b3-b5b6-d07f185286d6",
   "metadata": {},
   "outputs": [],
   "source": [
    "def pyramid(num):\n",
    "    for i in range(num):\n",
    "        space = num - i -1\n",
    "        star = 2 * i + 1\n",
    "        print(' '*space, end = ' ')\n",
    "        print('*'*star)"
   ]
  },
  {
   "cell_type": "code",
   "execution_count": 10,
   "id": "4ea92527-39ef-4e3f-8522-26b391b45b2d",
   "metadata": {},
   "outputs": [
    {
     "name": "stdout",
     "output_type": "stream",
     "text": [
      "     *\n",
      "    ***\n",
      "   *****\n",
      "  *******\n",
      " *********\n"
     ]
    }
   ],
   "source": [
    "pyramid(5)"
   ]
  },
  {
   "cell_type": "markdown",
   "id": "24e0455d-6ba9-4838-98da-bd9a7107f5a4",
   "metadata": {},
   "source": [
    "# 4. Print an inverted pyramid."
   ]
  },
  {
   "cell_type": "code",
   "execution_count": 17,
   "id": "b0dab815-e7eb-4d57-b76f-f63a9495349a",
   "metadata": {},
   "outputs": [],
   "source": [
    "def invertedpyramid(num):\n",
    "    for i in range(num-1, -1, -1):\n",
    "        space = num - i + 1\n",
    "        star = 2 * i + 1\n",
    "        print(' '*space, end = '')\n",
    "        print('*'*star)"
   ]
  },
  {
   "cell_type": "code",
   "execution_count": 18,
   "id": "0a160c93-6503-43f1-9404-aa329380bbc0",
   "metadata": {},
   "outputs": [
    {
     "name": "stdout",
     "output_type": "stream",
     "text": [
      "  *********\n",
      "   *******\n",
      "    *****\n",
      "     ***\n",
      "      *\n"
     ]
    }
   ],
   "source": [
    "invertedpyramid(5)"
   ]
  },
  {
   "cell_type": "markdown",
   "id": "9dd459bf-2002-4237-8fc6-598fa9fd4db2",
   "metadata": {},
   "source": [
    "# 5. Print a diamond pattern."
   ]
  },
  {
   "cell_type": "code",
   "execution_count": 19,
   "id": "bb82d286-4d40-4b43-aabf-153ba8e0c270",
   "metadata": {},
   "outputs": [],
   "source": [
    "def diamond(num):\n",
    "    for i in range(num):\n",
    "        space = num-i-1\n",
    "        star = 2*i+ 1\n",
    "        print(' '*space, end='')\n",
    "        print('*'*star)\n",
    "    for i in range(num-1,-1,-1):\n",
    "        space = num-i-1\n",
    "        star = 2*i+ 1\n",
    "        print(' '*space, end='')\n",
    "        print('*'*star)\n",
    "        "
   ]
  },
  {
   "cell_type": "code",
   "execution_count": 20,
   "id": "51703905-e186-4686-8bb2-5135340ff255",
   "metadata": {},
   "outputs": [
    {
     "name": "stdout",
     "output_type": "stream",
     "text": [
      "    *\n",
      "   ***\n",
      "  *****\n",
      " *******\n",
      "*********\n",
      "*********\n",
      " *******\n",
      "  *****\n",
      "   ***\n",
      "    *\n"
     ]
    }
   ],
   "source": [
    "diamond(5)"
   ]
  },
  {
   "cell_type": "markdown",
   "id": "f800c19e-b8b5-4530-910d-8f94c77e9726",
   "metadata": {},
   "source": [
    "# 6. Print Pascal’s triangle."
   ]
  },
  {
   "cell_type": "code",
   "execution_count": 25,
   "id": "47a41065-7abf-4d22-891e-0b9d7dc0fb25",
   "metadata": {},
   "outputs": [],
   "source": [
    "import math\n",
    "\n",
    "def pascals(num):\n",
    "    for i in range(num):\n",
    "        print(' '*(num-i-1), end= ' ')\n",
    "        for j in range(i+ 1):\n",
    "            #print(j)\n",
    "            value = math.comb(i,j)\n",
    "            print(value, end=' ')\n",
    "        print()"
   ]
  },
  {
   "cell_type": "code",
   "execution_count": 26,
   "id": "7bd4b7f0-b15c-408b-945a-1010e0ba7dcc",
   "metadata": {},
   "outputs": [
    {
     "name": "stdout",
     "output_type": "stream",
     "text": [
      "     1 \n",
      "    1 1 \n",
      "   1 2 1 \n",
      "  1 3 3 1 \n",
      " 1 4 6 4 1 \n"
     ]
    }
   ],
   "source": [
    "pascals(5)"
   ]
  },
  {
   "cell_type": "markdown",
   "id": "647f6685-f4ad-4df5-9e46-576d2e4e83d5",
   "metadata": {},
   "source": [
    "# 7. Print Floyid's triangle."
   ]
  },
  {
   "cell_type": "code",
   "execution_count": 29,
   "id": "7b80b667-d0eb-478a-801d-2cc3a9d9a1eb",
   "metadata": {},
   "outputs": [],
   "source": [
    "def floyid(num):\n",
    "    n = 1\n",
    "    for i in range(1, num+1):\n",
    "        for j in range(i):\n",
    "            print(n, end = '')\n",
    "            n += 1\n",
    "        print()\n",
    "        "
   ]
  },
  {
   "cell_type": "code",
   "execution_count": 30,
   "id": "78fc4708-7b4e-4b98-9be6-81aaddf6c70b",
   "metadata": {},
   "outputs": [
    {
     "name": "stdout",
     "output_type": "stream",
     "text": [
      "1\n",
      "23\n",
      "456\n",
      "78910\n",
      "1112131415\n"
     ]
    }
   ],
   "source": [
    "floyid(5)"
   ]
  },
  {
   "cell_type": "code",
   "execution_count": null,
   "id": "5c734734-e1ef-4d9d-9637-87a1f1692947",
   "metadata": {},
   "outputs": [],
   "source": []
  },
  {
   "cell_type": "markdown",
   "id": "530962b7-bf5e-4cfc-8401-5ea22e8421e2",
   "metadata": {},
   "source": [
    "# 8. Print a hollow square pattern."
   ]
  },
  {
   "cell_type": "code",
   "execution_count": 35,
   "id": "f4e05344-9595-4312-b94c-831b361bb3cb",
   "metadata": {},
   "outputs": [],
   "source": [
    "def hallow(num):\n",
    "    for i in range(num):\n",
    "        for j in range(num):\n",
    "            if i == 0 or i == num-1 or j == 0 or j == num-1:\n",
    "                print('#',end = ' ')\n",
    "            else:\n",
    "                print(' ',end = ' ')\n",
    "\n",
    "        print()"
   ]
  },
  {
   "cell_type": "code",
   "execution_count": 36,
   "id": "32e91d11-ef42-4f7c-8e55-137436a9b332",
   "metadata": {},
   "outputs": [
    {
     "name": "stdout",
     "output_type": "stream",
     "text": [
      "# # # # # \n",
      "#       # \n",
      "#       # \n",
      "#       # \n",
      "# # # # # \n"
     ]
    }
   ],
   "source": [
    "hallow(5)"
   ]
  },
  {
   "cell_type": "markdown",
   "id": "9daf2866-b97d-4211-9de8-aa081792f6b1",
   "metadata": {},
   "source": [
    "# 9. Print a star pattern using loops (Butterfly)."
   ]
  },
  {
   "cell_type": "code",
   "execution_count": 42,
   "id": "590579aa-d7f7-4fa1-a5f5-63e923c83953",
   "metadata": {},
   "outputs": [],
   "source": [
    "def butterfly(num):\n",
    "    for i in range(num):\n",
    "        print('*'*(i+1) + ' ' * (2 * (num - i)) + '*'*(i+1))\n",
    "    for i in range(num, -1,-1):\n",
    "        print('*'*(i+1) + ' ' * (2 * (num - i)) + '*' * (i+1))\n",
    "    print()"
   ]
  },
  {
   "cell_type": "code",
   "execution_count": 43,
   "id": "64b46a0f-4a78-41a2-95f0-b3b52c016c4f",
   "metadata": {},
   "outputs": [
    {
     "name": "stdout",
     "output_type": "stream",
     "text": [
      "*                    *\n",
      "**                  **\n",
      "***                ***\n",
      "****              ****\n",
      "*****            *****\n",
      "******          ******\n",
      "*******        *******\n",
      "********      ********\n",
      "*********    *********\n",
      "**********  **********\n",
      "**********************\n",
      "**********  **********\n",
      "*********    *********\n",
      "********      ********\n",
      "*******        *******\n",
      "******          ******\n",
      "*****            *****\n",
      "****              ****\n",
      "***                ***\n",
      "**                  **\n",
      "*                    *\n",
      "\n"
     ]
    }
   ],
   "source": [
    "butterfly(10)"
   ]
  },
  {
   "cell_type": "markdown",
   "id": "543e392f-e54a-46a1-b24b-611d4669d56e",
   "metadata": {},
   "source": [
    "# 10. Print a number pattern."
   ]
  },
  {
   "cell_type": "code",
   "execution_count": 44,
   "id": "bc755713-622a-4140-80c5-a070363cb586",
   "metadata": {},
   "outputs": [],
   "source": [
    "def numpattern(num):\n",
    "    n =1\n",
    "    for i in range(num, -1,-1):\n",
    "        for j in range(i):\n",
    "            print(n,end = ' ')\n",
    "            n+=1\n",
    "        print()"
   ]
  },
  {
   "cell_type": "code",
   "execution_count": 45,
   "id": "e0596ca5-5661-4e62-879e-4eaa24def0f7",
   "metadata": {},
   "outputs": [
    {
     "name": "stdout",
     "output_type": "stream",
     "text": [
      "1 2 3 4 5 \n",
      "6 7 8 9 \n",
      "10 11 12 \n",
      "13 14 \n",
      "15 \n",
      "\n"
     ]
    }
   ],
   "source": [
    "numpattern(5)"
   ]
  },
  {
   "cell_type": "code",
   "execution_count": null,
   "id": "8ff03189-8e90-40ef-93de-98ace937fd44",
   "metadata": {},
   "outputs": [],
   "source": []
  }
 ],
 "metadata": {
  "kernelspec": {
   "display_name": "Python 3 (ipykernel)",
   "language": "python",
   "name": "python3"
  },
  "language_info": {
   "codemirror_mode": {
    "name": "ipython",
    "version": 3
   },
   "file_extension": ".py",
   "mimetype": "text/x-python",
   "name": "python",
   "nbconvert_exporter": "python",
   "pygments_lexer": "ipython3",
   "version": "3.11.7"
  }
 },
 "nbformat": 4,
 "nbformat_minor": 5
}
