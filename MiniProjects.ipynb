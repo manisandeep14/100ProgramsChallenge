{
 "cells": [
  {
   "cell_type": "markdown",
   "id": "f6d1995c-90fd-4358-a105-7aa273c74805",
   "metadata": {},
   "source": [
    "# 1. Generate the random number"
   ]
  },
  {
   "cell_type": "code",
   "execution_count": null,
   "id": "d08ca142-7966-41fd-9dad-ae39cdb3a129",
   "metadata": {},
   "outputs": [],
   "source": [
    "# python----> random"
   ]
  },
  {
   "cell_type": "code",
   "execution_count": 1,
   "id": "7e87bc7b-70ac-4191-b111-3823dbdaa176",
   "metadata": {},
   "outputs": [],
   "source": [
    "import random"
   ]
  },
  {
   "cell_type": "code",
   "execution_count": 10,
   "id": "d2a7e0b1-c0ef-4540-8677-51e34a61506f",
   "metadata": {},
   "outputs": [
    {
     "name": "stdout",
     "output_type": "stream",
     "text": [
      "Random number is : 51\n"
     ]
    }
   ],
   "source": [
    "random_number = random.randint(1,100)\n",
    "print(\"Random number is :\", random_number)"
   ]
  },
  {
   "cell_type": "raw",
   "id": "1c671468-2204-44b5-b50f-5c760944b898",
   "metadata": {},
   "source": []
  },
  {
   "cell_type": "code",
   "execution_count": 18,
   "id": "f833c11a-639e-43e7-aa8e-d38140fb415b",
   "metadata": {},
   "outputs": [],
   "source": [
    "def guess_the_number():\n",
    "    print(\"Welcome to the Guessing Game!\")\n",
    "    print(\"I'm thinking of a number between 1 and 100..\")\n",
    "\n",
    "    number = random.randint(1, 100)\n",
    "    #print(number)\n",
    "    attempt = 0\n",
    "\n",
    "    while True:\n",
    "        try:\n",
    "            guess = int(input(\"Enter your guess:\"))\n",
    "            attempt += 1\n",
    "            if guess < number:\n",
    "                print(\"your guess is too low! Try again.\")\n",
    "            elif guess > number:\n",
    "                print(\"your guess is too high! Try agian.\")\n",
    "            else:\n",
    "                print(f\"Correct Gueesss , in your{attempt} attempts.\") \n",
    "                break\n",
    "        except ValueError:\n",
    "            print(\"please enter a valid number.\")\n",
    "\n"
   ]
  },
  {
   "cell_type": "code",
   "execution_count": 19,
   "id": "5cbcc5e5-5473-4199-89bd-23ef2f8a16d7",
   "metadata": {},
   "outputs": [
    {
     "name": "stdout",
     "output_type": "stream",
     "text": [
      "Welcome to the Guessing Game!\n",
      "I'm thinking of a number between 1 and 100..\n",
      "9\n"
     ]
    },
    {
     "name": "stdin",
     "output_type": "stream",
     "text": [
      "Enter your guess: 9\n"
     ]
    },
    {
     "name": "stdout",
     "output_type": "stream",
     "text": [
      "Correct Gueesss , in your1 attempts.\n"
     ]
    }
   ],
   "source": [
    "guess_the_number()"
   ]
  },
  {
   "cell_type": "code",
   "execution_count": null,
   "id": "fb44defd-fc7c-4b73-a8ad-b8069c59b536",
   "metadata": {},
   "outputs": [],
   "source": []
  },
  {
   "cell_type": "markdown",
   "id": "43d53c27-dd7f-4611-a1c4-aeb2f13b0b14",
   "metadata": {},
   "source": [
    "# 2.Generate a random password"
   ]
  },
  {
   "cell_type": "code",
   "execution_count": 20,
   "id": "82dded05-8b15-4764-aaf8-daa535576b12",
   "metadata": {},
   "outputs": [],
   "source": [
    "import string"
   ]
  },
  {
   "cell_type": "code",
   "execution_count": 21,
   "id": "1e21ce4d-4015-4160-b839-f8065a999997",
   "metadata": {},
   "outputs": [
    {
     "data": {
      "text/plain": [
       "'0123456789'"
      ]
     },
     "execution_count": 21,
     "metadata": {},
     "output_type": "execute_result"
    }
   ],
   "source": [
    "string.digits"
   ]
  },
  {
   "cell_type": "code",
   "execution_count": 22,
   "id": "ce5dce29-2d15-455b-8baa-e9ce72d3ffc7",
   "metadata": {},
   "outputs": [
    {
     "data": {
      "text/plain": [
       "'!\"#$%&\\'()*+,-./:;<=>?@[\\\\]^_`{|}~'"
      ]
     },
     "execution_count": 22,
     "metadata": {},
     "output_type": "execute_result"
    }
   ],
   "source": [
    "string.punctuation"
   ]
  },
  {
   "cell_type": "code",
   "execution_count": 24,
   "id": "fb427f98-815c-46f7-a11f-354e312ef4a2",
   "metadata": {},
   "outputs": [
    {
     "data": {
      "text/plain": [
       "'abcdefghijklmnopqrstuvwxyzABCDEFGHIJKLMNOPQRSTUVWXYZ'"
      ]
     },
     "execution_count": 24,
     "metadata": {},
     "output_type": "execute_result"
    }
   ],
   "source": [
    "string.ascii_letters"
   ]
  },
  {
   "cell_type": "code",
   "execution_count": null,
   "id": "cfb46d34-7947-40c8-ba27-a12f1972a11f",
   "metadata": {},
   "outputs": [],
   "source": [
    "# python ---->.join"
   ]
  },
  {
   "cell_type": "code",
   "execution_count": 27,
   "id": "28e1b183-8d02-44c0-8b0f-4f252ba1eaa6",
   "metadata": {},
   "outputs": [],
   "source": [
    "def generate_password(length = 12):\n",
    "    characters = string.digits + string.punctuation + string.ascii_letters\n",
    "\n",
    "    password = ''.join(random.choice(characters) for _ in range(length))\n",
    "\n",
    "    return password\n",
    "    "
   ]
  },
  {
   "cell_type": "code",
   "execution_count": 37,
   "id": "abacfa24-3c1c-4e4f-8802-d62adc187cf9",
   "metadata": {},
   "outputs": [
    {
     "data": {
      "text/plain": [
       "'Zc3K8-?8TwWu'"
      ]
     },
     "execution_count": 37,
     "metadata": {},
     "output_type": "execute_result"
    }
   ],
   "source": [
    "generate_password()\n"
   ]
  },
  {
   "cell_type": "code",
   "execution_count": null,
   "id": "f4da71f8-5223-4076-9b46-3106671bc57a",
   "metadata": {},
   "outputs": [],
   "source": []
  },
  {
   "cell_type": "code",
   "execution_count": null,
   "id": "7ca4ee75-e4c5-4cf9-928c-5affae8728a8",
   "metadata": {},
   "outputs": [],
   "source": []
  },
  {
   "cell_type": "markdown",
   "id": "38f9beb8-f379-45d6-ba0c-0a56d0bca303",
   "metadata": {},
   "source": [
    "# 3.Implement a to-do list"
   ]
  },
  {
   "cell_type": "code",
   "execution_count": 42,
   "id": "7690f2fe-bdc3-4177-9817-4b6291ccf472",
   "metadata": {},
   "outputs": [],
   "source": [
    "todo_list = []\n",
    "\n",
    "def show_menu():\n",
    "    print(\"To Do List Menu:\")\n",
    "    print(\"1. Add Task\")\n",
    "    print(\"2. View Tasks\")\n",
    "    print(\"3. Remove Tak\")\n",
    "    print(\"4. Exit\")\n",
    "\n",
    "def add_task():\n",
    "    task = input(\"Enter a new task: \")\n",
    "    todo_list.append(task)\n",
    "    print(\"Task added\")\n",
    "\n",
    "def view_tasks():\n",
    "    if not todo_list:\n",
    "        print(\"No tasks in your list.\")\n",
    "    else:\n",
    "        print(\"Your Tasks:\")\n",
    "        for i, task in enumerate(todo_list, 1):\n",
    "            print(f\"{i}. {task}\")\n",
    "\n",
    "def remove_task():\n",
    "    view_tasks()\n",
    "    try: \n",
    "        task_num = int(input(\"Enter the task number to remove:\"))\n",
    "        removed = todo_list.pop(task_num - 1)\n",
    "        print(f\"Removed Task : {removed}\")\n",
    "    except (ValueError, IndexError):\n",
    "        print(\"Invaid task Number\")\n",
    "            "
   ]
  },
  {
   "cell_type": "code",
   "execution_count": 43,
   "id": "09b0cc31-802b-48c8-9473-db756e96b618",
   "metadata": {},
   "outputs": [
    {
     "name": "stdout",
     "output_type": "stream",
     "text": [
      "To Do List Menu:\n",
      "1. Add Task\n",
      "2. View Tasks\n",
      "3. Remove Tak\n",
      "4. Exit\n"
     ]
    },
    {
     "name": "stdin",
     "output_type": "stream",
     "text": [
      "choose an option(1-4): breakfast at 7:30\n"
     ]
    },
    {
     "name": "stdout",
     "output_type": "stream",
     "text": [
      "Invalid choice. Try again.\n",
      "To Do List Menu:\n",
      "1. Add Task\n",
      "2. View Tasks\n",
      "3. Remove Tak\n",
      "4. Exit\n"
     ]
    },
    {
     "name": "stdin",
     "output_type": "stream",
     "text": [
      "choose an option(1-4): 1\n",
      "Enter a new task:  breakfast at 7:30\n"
     ]
    },
    {
     "name": "stdout",
     "output_type": "stream",
     "text": [
      "Task added\n",
      "To Do List Menu:\n",
      "1. Add Task\n",
      "2. View Tasks\n",
      "3. Remove Tak\n",
      "4. Exit\n"
     ]
    },
    {
     "name": "stdin",
     "output_type": "stream",
     "text": [
      "choose an option(1-4): 1\n",
      "Enter a new task:  go to clg at 9:00\n"
     ]
    },
    {
     "name": "stdout",
     "output_type": "stream",
     "text": [
      "Task added\n",
      "To Do List Menu:\n",
      "1. Add Task\n",
      "2. View Tasks\n",
      "3. Remove Tak\n",
      "4. Exit\n"
     ]
    },
    {
     "name": "stdin",
     "output_type": "stream",
     "text": [
      "choose an option(1-4): eating lunch at 12:00\n"
     ]
    },
    {
     "name": "stdout",
     "output_type": "stream",
     "text": [
      "Invalid choice. Try again.\n",
      "To Do List Menu:\n",
      "1. Add Task\n",
      "2. View Tasks\n",
      "3. Remove Tak\n",
      "4. Exit\n"
     ]
    },
    {
     "name": "stdin",
     "output_type": "stream",
     "text": [
      "choose an option(1-4): 1\n",
      "Enter a new task:  eatting lunch at 12:00\n"
     ]
    },
    {
     "name": "stdout",
     "output_type": "stream",
     "text": [
      "Task added\n",
      "To Do List Menu:\n",
      "1. Add Task\n",
      "2. View Tasks\n",
      "3. Remove Tak\n",
      "4. Exit\n"
     ]
    },
    {
     "name": "stdin",
     "output_type": "stream",
     "text": [
      "choose an option(1-4): 2\n"
     ]
    },
    {
     "name": "stdout",
     "output_type": "stream",
     "text": [
      "Your Tasks:\n",
      "1. breakfast at 7:30\n",
      "2. go to clg at 9:00\n",
      "3. eatting lunch at 12:00\n",
      "To Do List Menu:\n",
      "1. Add Task\n",
      "2. View Tasks\n",
      "3. Remove Tak\n",
      "4. Exit\n"
     ]
    },
    {
     "name": "stdin",
     "output_type": "stream",
     "text": [
      "choose an option(1-4): 3\n"
     ]
    },
    {
     "name": "stdout",
     "output_type": "stream",
     "text": [
      "Your Tasks:\n",
      "1. breakfast at 7:30\n",
      "2. go to clg at 9:00\n",
      "3. eatting lunch at 12:00\n"
     ]
    },
    {
     "name": "stdin",
     "output_type": "stream",
     "text": [
      "Enter the task number to remove: 3\n"
     ]
    },
    {
     "name": "stdout",
     "output_type": "stream",
     "text": [
      "Removed Task : eatting lunch at 12:00\n",
      "To Do List Menu:\n",
      "1. Add Task\n",
      "2. View Tasks\n",
      "3. Remove Tak\n",
      "4. Exit\n"
     ]
    },
    {
     "name": "stdin",
     "output_type": "stream",
     "text": [
      "choose an option(1-4): 2\n"
     ]
    },
    {
     "name": "stdout",
     "output_type": "stream",
     "text": [
      "Your Tasks:\n",
      "1. breakfast at 7:30\n",
      "2. go to clg at 9:00\n",
      "To Do List Menu:\n",
      "1. Add Task\n",
      "2. View Tasks\n",
      "3. Remove Tak\n",
      "4. Exit\n"
     ]
    },
    {
     "name": "stdin",
     "output_type": "stream",
     "text": [
      "choose an option(1-4): 4\n"
     ]
    },
    {
     "name": "stdout",
     "output_type": "stream",
     "text": [
      "Have a Good Day!!!\n"
     ]
    }
   ],
   "source": [
    "while True:\n",
    "    show_menu()\n",
    "    choice = input(\"choose an option(1-4):\")\n",
    "    if choice == '1':\n",
    "        add_task()\n",
    "    elif choice == '2':\n",
    "        view_tasks()\n",
    "    elif choice == '3':\n",
    "        remove_task()\n",
    "    elif choice == '4':\n",
    "        print(\"Have a Good Day!!!\")\n",
    "        break\n",
    "    else:\n",
    "        print(\"Invalid choice. Try again.\")\n",
    "        "
   ]
  },
  {
   "cell_type": "code",
   "execution_count": null,
   "id": "f62c86d9-e62d-43e6-8d7e-f4adf3234ac0",
   "metadata": {},
   "outputs": [],
   "source": []
  },
  {
   "cell_type": "code",
   "execution_count": null,
   "id": "ed2c7f98-23cb-4416-8a4c-4e906ab71521",
   "metadata": {},
   "outputs": [],
   "source": []
  },
  {
   "cell_type": "markdown",
   "id": "f08a0cda-c881-492c-8689-46654a3dda89",
   "metadata": {},
   "source": [
    "# 4.Implement a simple calculator"
   ]
  },
  {
   "cell_type": "code",
   "execution_count": 2,
   "id": "ae201e07-ad70-46fb-8bfa-5eecb41d9eb3",
   "metadata": {},
   "outputs": [],
   "source": [
    "def add(a,b):\n",
    "    c = a+b\n",
    "    return c\n",
    "\n",
    "def subtract(a,b):\n",
    "    return a-b\n",
    "\n",
    "def multiply(a,b):\n",
    "    return a*b\n",
    "\n",
    "def division(a,b):\n",
    "    if b== 0:\n",
    "        return \"Cannot divide by Zero\"\n",
    "    return a/b \n",
    "\n",
    "\n"
   ]
  },
  {
   "cell_type": "code",
   "execution_count": 3,
   "id": "99ed2d2d-d13f-4add-bdd7-742399fc2528",
   "metadata": {},
   "outputs": [],
   "source": [
    "def calculator():\n",
    "    print(\"Simple Calculator\")\n",
    "\n",
    "    while True:\n",
    "        try:\n",
    "            num1 = float(input(\"Enter the first number: \"))\n",
    "            operator = input(\"Enter Opertion (+, - , *, /): \")\n",
    "            num2 = float(input(\"Enter the second number:\"))\n",
    "\n",
    "\n",
    "            if operator == '+':\n",
    "                result = add(num1,num2)\n",
    "                print(\"Your answer is: \",result)\n",
    "\n",
    "            elif operator == '-':\n",
    "                result = subtract(num1, num2)\n",
    "                print(\"Your answer is: \",result)\n",
    "                \n",
    "            elif operator == '*':\n",
    "                result = multiply(num1, num2)\n",
    "                print(\"Your answer is: \",result)\n",
    "\n",
    "            elif operator == '/':\n",
    "                result = division(num1, num2)\n",
    "                print(\"Your answer is: \",result)\n",
    "\n",
    "            else:\n",
    "                print(\" Invalid Operator\")\n",
    "\n",
    "        except ValueError:\n",
    "            print(\"Please Enter valid numbers.\")\n",
    "\n",
    "        choice = input(\"Do you want to calculate again?(y/n):\").lower()\n",
    "        if choice != 'y':\n",
    "            print(\"Exiting Calculator. Have a Good Day!\")\n",
    "            break\n",
    "        "
   ]
  },
  {
   "cell_type": "code",
   "execution_count": 5,
   "id": "83c2a77d-f15f-4051-b0b7-df1a6ef96998",
   "metadata": {},
   "outputs": [
    {
     "name": "stdout",
     "output_type": "stream",
     "text": [
      "Simple Calculator\n"
     ]
    },
    {
     "name": "stdin",
     "output_type": "stream",
     "text": [
      "Enter the first number:  1\n",
      "Enter Opertion (+, - , *, /):  -\n",
      "Enter the second number: 1\n"
     ]
    },
    {
     "name": "stdout",
     "output_type": "stream",
     "text": [
      "Your answer is:  0.0\n"
     ]
    },
    {
     "name": "stdin",
     "output_type": "stream",
     "text": [
      "Do you want to calculate again?(y/n): y\n",
      "Enter the first number:  2\n",
      "Enter Opertion (+, - , *, /):  *\n",
      "Enter the second number: 2\n"
     ]
    },
    {
     "name": "stdout",
     "output_type": "stream",
     "text": [
      "Your answer is:  4.0\n"
     ]
    },
    {
     "name": "stdin",
     "output_type": "stream",
     "text": [
      "Do you want to calculate again?(y/n): y\n",
      "Enter the first number:  2\n",
      "Enter Opertion (+, - , *, /):  /\n",
      "Enter the second number: 2\n"
     ]
    },
    {
     "name": "stdout",
     "output_type": "stream",
     "text": [
      "Your answer is:  1.0\n"
     ]
    },
    {
     "name": "stdin",
     "output_type": "stream",
     "text": [
      "Do you want to calculate again?(y/n): n\n"
     ]
    },
    {
     "name": "stdout",
     "output_type": "stream",
     "text": [
      "Exiting Calculator. Have a Good Day!\n"
     ]
    }
   ],
   "source": [
    "calculator()"
   ]
  },
  {
   "cell_type": "code",
   "execution_count": null,
   "id": "40b14765-3580-40a1-ada9-6c83bdcf9eb6",
   "metadata": {},
   "outputs": [],
   "source": []
  },
  {
   "cell_type": "code",
   "execution_count": null,
   "id": "209533d7-bea0-40ef-bf44-becb96a54553",
   "metadata": {},
   "outputs": [],
   "source": []
  },
  {
   "cell_type": "markdown",
   "id": "a093d78d-7399-432b-8cee-117044fe72f0",
   "metadata": {},
   "source": [
    "# 5.Find the current date and time"
   ]
  },
  {
   "cell_type": "code",
   "execution_count": 9,
   "id": "bc05173a-27b3-4e43-9f70-d72693b9e4b3",
   "metadata": {},
   "outputs": [
    {
     "name": "stdout",
     "output_type": "stream",
     "text": [
      " Current Date and Time : 2025-08-16 11:06:48.825527\n"
     ]
    }
   ],
   "source": [
    "from datetime import datetime\n",
    "\n",
    "now = datetime.now()\n",
    "\n",
    "print(\" Current Date and Time :\", now)"
   ]
  },
  {
   "cell_type": "code",
   "execution_count": 10,
   "id": "5bffc343-3936-4c5c-90f9-43d1e784b091",
   "metadata": {},
   "outputs": [
    {
     "name": "stdout",
     "output_type": "stream",
     "text": [
      "Formatted: 2025-08-16 11-06-48\n"
     ]
    }
   ],
   "source": [
    "formatted = now.strftime(\"%Y-%m-%d %H-%M-%S\")\n",
    "print(\"Formatted:\", formatted)"
   ]
  },
  {
   "cell_type": "code",
   "execution_count": null,
   "id": "c6df7f16-e45d-4452-ba41-dab8b59e9277",
   "metadata": {},
   "outputs": [],
   "source": []
  },
  {
   "cell_type": "markdown",
   "id": "c87c1c46-b67c-47da-bb98-a3fdc2a0b17c",
   "metadata": {},
   "source": [
    "# 6. Find the day of the week for a given date"
   ]
  },
  {
   "cell_type": "code",
   "execution_count": 12,
   "id": "6874de71-0405-4fd9-9bf4-9bbb2bd4c130",
   "metadata": {},
   "outputs": [
    {
     "name": "stdin",
     "output_type": "stream",
     "text": [
      "Enter a date(YYYY-MM-DD):  2025-08-15\n"
     ]
    },
    {
     "name": "stdout",
     "output_type": "stream",
     "text": [
      "The fday of the week for 2025-08-15 is : Friday\n"
     ]
    }
   ],
   "source": [
    "date_input = input(\"Enter a date(YYYY-MM-DD): \")\n",
    "\n",
    "try:\n",
    "    date_object = datetime.strptime(date_input, \"%Y-%m-%d\")\n",
    "    day_of_week = date_object.strftime(\"%A\")\n",
    "\n",
    "    print(f\"The fday of the week for {date_input} is : {day_of_week}\")\n",
    "\n",
    "except ValueError:\n",
    "    print(\"Invalid date fromat. please use YYYY-MM-DD\")"
   ]
  },
  {
   "cell_type": "code",
   "execution_count": null,
   "id": "c2538328-1f43-48f3-b776-01578042bc45",
   "metadata": {},
   "outputs": [],
   "source": []
  },
  {
   "cell_type": "markdown",
   "id": "30da5bc1-6982-4b3f-8de0-58c929baa116",
   "metadata": {},
   "source": [
    "# 7. Find the time difference between two dates"
   ]
  },
  {
   "cell_type": "code",
   "execution_count": 15,
   "id": "24dfc60c-b5a2-4105-8d79-aa756dacce08",
   "metadata": {},
   "outputs": [
    {
     "name": "stdin",
     "output_type": "stream",
     "text": [
      "Enter the first date YYYY-MM-DD :  2024-01-01\n",
      "Enter the second date YYYY-MM-DD :  2025-01-01\n"
     ]
    },
    {
     "name": "stdout",
     "output_type": "stream",
     "text": [
      "2024-01-01 00:00:00\n",
      "2025-01-01 00:00:00\n",
      "Time difference: 366 days\n"
     ]
    }
   ],
   "source": [
    "date_1_str= input(\"Enter the first date YYYY-MM-DD : \")\n",
    "date_2_str = input(\"Enter the second date YYYY-MM-DD : \")\n",
    "try:\n",
    "    date1 = datetime.strptime(date_1_str, \"%Y-%m-%d\")\n",
    "    date2 = datetime.strptime(date_2_str, \"%Y-%m-%d\")\n",
    "    print(date1)\n",
    "    print(date2)\n",
    "    difference = abs(date2-date1)\n",
    "    print(f\"Time difference: {difference.days} days\")\n",
    "except ValueError:\n",
    "    print(\"Invalid data format. Please use YYYY-MM-DD.\")\n",
    "    "
   ]
  },
  {
   "cell_type": "code",
   "execution_count": null,
   "id": "6f93af60-3a2a-4960-8645-2098cd0f6cd3",
   "metadata": {},
   "outputs": [],
   "source": []
  },
  {
   "cell_type": "code",
   "execution_count": null,
   "id": "54a6ddfd-97e3-461e-91f2-d8a67b8be0ac",
   "metadata": {},
   "outputs": [],
   "source": []
  },
  {
   "cell_type": "markdown",
   "id": "f0328537-6dfd-4f2d-aedc-4dd4ecb26f20",
   "metadata": {},
   "source": [
    "# 8.Get the system IP address"
   ]
  },
  {
   "cell_type": "code",
   "execution_count": 1,
   "id": "154a9ec5-1a8e-424f-9509-2d691484ca6b",
   "metadata": {},
   "outputs": [],
   "source": [
    "import socket"
   ]
  },
  {
   "cell_type": "code",
   "execution_count": 2,
   "id": "4df1727b-a430-435f-9b3f-58c9dfb8b894",
   "metadata": {},
   "outputs": [],
   "source": [
    "hostname = socket.gethostname()\n",
    "\n",
    "ip_address = socket.gethostbyname(hostname)"
   ]
  },
  {
   "cell_type": "code",
   "execution_count": null,
   "id": "afc11ce3-c1fd-4acd-ba9d-6a7da7de6759",
   "metadata": {},
   "outputs": [],
   "source": [
    "print(f\"Host Name : {hostname}\")\n",
    "print(f\"IP Address: {ip_address}\")"
   ]
  },
  {
   "cell_type": "code",
   "execution_count": null,
   "id": "135e83a5-1c94-4a0a-8dfb-5479b21ab6a3",
   "metadata": {},
   "outputs": [],
   "source": []
  },
  {
   "cell_type": "code",
   "execution_count": null,
   "id": "16b30c17-3276-44f9-988d-b15a20b5589a",
   "metadata": {},
   "outputs": [],
   "source": []
  },
  {
   "cell_type": "code",
   "execution_count": null,
   "id": "dc4f08a4-b9d2-4ef4-a6a8-407e280e8733",
   "metadata": {},
   "outputs": [],
   "source": []
  },
  {
   "cell_type": "markdown",
   "id": "c81b4e1d-c802-4e60-b31c-157262fbdc6a",
   "metadata": {},
   "source": [
    "# 9.Check internet connectivity"
   ]
  },
  {
   "cell_type": "code",
   "execution_count": 15,
   "id": "04c6d7e2-10f8-4fb7-9d83-bc532a4199bf",
   "metadata": {},
   "outputs": [],
   "source": [
    "def check_internet(host=\"8.8.8.8\", port=53, timeout = 3):\n",
    "    try:\n",
    "        socket.setdefaulttimeout(timeout)\n",
    "        socket.socket(socket.AF_INET, socket.SOCK_STREAM).connect((host, port))\n",
    "        return True\n",
    "    except socket.error as ex:\n",
    "        return False"
   ]
  },
  {
   "cell_type": "code",
   "execution_count": 17,
   "id": "da1e6c9c-c3b0-4f01-919a-b33df7105e12",
   "metadata": {},
   "outputs": [
    {
     "name": "stdout",
     "output_type": "stream",
     "text": [
      "Internet is Connected\n"
     ]
    }
   ],
   "source": [
    "if check_internet():\n",
    "    print(\"Internet is Connected\")\n",
    "else:\n",
    "    print(\"Internet is not Connected\")"
   ]
  },
  {
   "cell_type": "code",
   "execution_count": null,
   "id": "b438342e-7df3-4684-bb7c-42dd3774a687",
   "metadata": {},
   "outputs": [],
   "source": []
  },
  {
   "cell_type": "markdown",
   "id": "c2e9d02c-7e96-4a2a-aad4-09dbf7a02334",
   "metadata": {},
   "source": [
    "# 10. Web scraping using Beautiful Soup"
   ]
  },
  {
   "cell_type": "code",
   "execution_count": 18,
   "id": "39d97f03-5515-4ad8-b7d0-a2d55a75ed75",
   "metadata": {},
   "outputs": [],
   "source": [
    "import requests"
   ]
  },
  {
   "cell_type": "code",
   "execution_count": 20,
   "id": "43ad5538-5e15-4397-ac07-f5d6846156c6",
   "metadata": {},
   "outputs": [],
   "source": [
    "from bs4 import BeautifulSoup"
   ]
  },
  {
   "cell_type": "code",
   "execution_count": 23,
   "id": "c0ce3b9a-6272-4a3d-a809-e24d9c169f99",
   "metadata": {},
   "outputs": [
    {
     "name": "stdout",
     "output_type": "stream",
     "text": [
      "BBC NEWS HEADLINES\n",
      "1. Zelensky to meet Trump in Washington on Monday after summit with Putin ends without deal\n",
      "2. 'Next time in Moscow?': Five takeaways after the summit\n",
      "3. 'A long way for nothing?' BBC correspondents on Alaska meeting\n",
      "4. What summit means for Trump, Putin and Ukraine\n",
      "5. In pictures: Trump rolls out the red carpet for Putin\n",
      "6. How the summit unfolded... in under 2 minutes\n",
      "7. More top stories\n",
      "8. Flash floods kill more than 300 in Pakistan and Pakistan-administered Kashmir\n",
      "9. Blackpink: K-pop band make 'epic Wembley dream' come true\n",
      "10. Afghans resettled in UK hit by new data breach\n",
      "11. DC police chief retains command after deal with Trump administration\n",
      "12. The 104-year-old WW2 veteran who moved the Queen to tears\n",
      "13. Blackpink: K-pop band make 'epic Wembley dream' come true\n",
      "14. An artist on the run, an exhibition censored: How China tried to silence a Thai art show\n",
      "15. Hundreds of flights grounded as Air Canada staff strike\n",
      "16. Are mangoes good for diabetes? Indian studies challenge conventional wisdom\n",
      "17. Afghans resettled in UK hit by new data breach\n",
      "18. UK trade envoy resigns over northern Cyprus visit\n",
      "19. Four dead in New York City outbreak of Legionnaires' disease\n",
      "20. More than 300 ill in Indonesia after eating free school lunches\n",
      "21. F1 tycoon fined $23,000 in Singapore gift scandal\n",
      "22. Rapper Sean Kingston sentenced to 3 years for fraud scheme\n",
      "23. More to explore\n",
      "24. 'We were never friends': A massacre on the eve of WW2 still haunts China-Japan relations\n",
      "25. How a second bungled plot brought about the downfall of American hitwoman\n",
      "26. Topshop returns to the UK High Street, but can it get its cool back?\n",
      "27. An artist on the run, an exhibition censored: How China tried to silence a Thai art show\n",
      "28. RFK Jr revives task force on childhood vaccine safety\n",
      "29. How a second bungled plot brought about the downfall of American hitwoman\n",
      "30. The US economy is a puzzle but the pieces aren't fitting together\n",
      "31. Topshop returns to the UK High Street, but can it get its cool back?\n",
      "32. Most watched\n",
      "33. 'A long way for nothing?' BBC correspondents on Alaska meeting\n",
      "34. How the Trump-Putin summit unfolded... in under 2 minutes\n",
      "35. Stranded passengers make precarious railway walk\n",
      "36. 'Next time in Moscow?' - Putin invites Trump to Russia with rare use of English\n",
      "37. Handshakes and a shared limo ride: Our correspondents unpack greeting\n",
      "38. Also in news\n",
      "39. 'Please find my daughter': Grief and chaos after flash floods in Kashmir\n",
      "40. Watch robot athletes compete in world's first humanoid games\n",
      "41. Spain at 'extreme risk' of new wildfires as 14 blazes spread\n",
      "42. Global plastic talks collapse as countries remain deeply divided\n",
      "43. 'Last' footballing nation plays its first match\n",
      "44. Watch robot athletes compete in world's first humanoid games\n",
      "45. King hails veterans' courage and sacrifice on VJ Day\n",
      "46. Far-right Israeli minister taunts prominent Palestinian prisoner\n",
      "47. Spain at 'extreme risk' of new wildfires as 14 blazes spread\n",
      "48. Most read\n",
      "49. 'Next time in Moscow?': Five takeaways after Trump and Putin's Alaska summit\n",
      "50. No ceasefire, no deal: What summit means for Trump, Putin and Ukraine\n",
      "51. Trump and Putin leave Alaska with no Ukraine deal\n",
      "52. Porn site traffic plummets as UK age verification rules enforced\n",
      "53. The 104-year-old WW2 veteran who moved the Queen to tears\n",
      "54. Are mangoes good for diabetes? Indian studies challenge conventional wisdom\n",
      "55. Blackpink: K-pop band make 'epic Wembley dream' come true\n",
      "56. Flash floods kill more than 300 in Pakistan and Pakistan-administered Kashmir\n",
      "57. Hundreds of flights grounded as Air Canada staff strike\n",
      "58. From bus conductor to superstar: Rajinikanth completes 50 years in Indian films\n",
      "59. Sport\n",
      "60. 'When will it stop?' - league opener halted as Semenyo reports racism\n",
      "61. 'Ekitike is instant Anfield hero but defence brutally exposed'\n",
      "62. Family, memories and childhood - getting to know Wayne Rooney\n",
      "63. Sutton's opening-weekend predictions v Tom Grennan and AI\n",
      "64. 'Charisma seen from space' - Britain's Davis stuns Rabadanov\n",
      "65. 'Ekitike is instant Anfield hero but defence brutally exposed'\n",
      "66. Former Australia captain Simpson dies aged 89\n",
      "67. Being tased made me UFC world champion - Du Plessis\n",
      "68. Family, memories and childhood - getting to know Wayne Rooney\n"
     ]
    }
   ],
   "source": [
    "url = \"https://www.bbc.com/news\"\n",
    "\n",
    "response = requests.get(url)\n",
    "#print(response)\n",
    "\n",
    "soup = BeautifulSoup(response.text, \"html.parser\")\n",
    "#print(soup)\n",
    "\n",
    "print(\"BBC NEWS HEADLINES\")\n",
    "\n",
    "headlines  = soup.find_all(\"h2\")\n",
    "\n",
    "for i , headline in enumerate(headlines[:], 1):\n",
    "    print(f\"{i}. {headline.get_text(strip = True)}\")"
   ]
  },
  {
   "cell_type": "code",
   "execution_count": null,
   "id": "ea553eb1-748f-4b61-8a1e-f1ab81500dd7",
   "metadata": {},
   "outputs": [],
   "source": []
  },
  {
   "cell_type": "code",
   "execution_count": null,
   "id": "2e93737a-b89a-4eb8-a1d0-4f2b42bd84d8",
   "metadata": {},
   "outputs": [],
   "source": []
  },
  {
   "cell_type": "code",
   "execution_count": null,
   "id": "d34cd4ef-6df2-462a-9f8d-4b14be02778a",
   "metadata": {},
   "outputs": [],
   "source": []
  },
  {
   "cell_type": "code",
   "execution_count": null,
   "id": "a4892eb6-c159-4abd-bf84-62193d67c706",
   "metadata": {},
   "outputs": [],
   "source": []
  },
  {
   "cell_type": "code",
   "execution_count": null,
   "id": "7b9d9c56-3098-4b8b-b78c-2540dc7cd2d6",
   "metadata": {},
   "outputs": [],
   "source": []
  },
  {
   "cell_type": "code",
   "execution_count": null,
   "id": "baec466a-187f-4455-8d9a-a6c01e1d61c7",
   "metadata": {},
   "outputs": [],
   "source": []
  },
  {
   "cell_type": "code",
   "execution_count": null,
   "id": "11a49aa5-55bb-4f14-990a-cc505ec9f8b9",
   "metadata": {},
   "outputs": [],
   "source": []
  },
  {
   "cell_type": "code",
   "execution_count": null,
   "id": "5d4c97d8-cb11-42ec-b1df-6e1ed5ff2f32",
   "metadata": {},
   "outputs": [],
   "source": []
  }
 ],
 "metadata": {
  "kernelspec": {
   "display_name": "Python 3 (ipykernel)",
   "language": "python",
   "name": "python3"
  },
  "language_info": {
   "codemirror_mode": {
    "name": "ipython",
    "version": 3
   },
   "file_extension": ".py",
   "mimetype": "text/x-python",
   "name": "python",
   "nbconvert_exporter": "python",
   "pygments_lexer": "ipython3",
   "version": "3.11.7"
  }
 },
 "nbformat": 4,
 "nbformat_minor": 5
}
