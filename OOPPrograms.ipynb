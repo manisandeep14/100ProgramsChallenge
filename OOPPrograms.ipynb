{
 "cells": [
  {
   "cell_type": "markdown",
   "id": "48d1bcf2-b66e-4519-825c-d7f53552fd7d",
   "metadata": {},
   "source": [
    "# 1.Create a class and object"
   ]
  },
  {
   "cell_type": "code",
   "execution_count": 1,
   "id": "7d0e638f-94ef-46c7-9296-818908532dd1",
   "metadata": {},
   "outputs": [
    {
     "name": "stdout",
     "output_type": "stream",
     "text": [
      "Name: mani\n",
      "Age: 20\n"
     ]
    }
   ],
   "source": [
    "class Student:\n",
    "    def display_info(self):\n",
    "        print(\"Name:\", self.name)\n",
    "        print(\"Age:\", self.age)\n",
    "\n",
    "student1 = Student() #object creation\n",
    "\n",
    "student1.name = \"mani\"\n",
    "student1.age = 20\n",
    "\n",
    "student1.display_info()\n",
    "\n"
   ]
  },
  {
   "cell_type": "code",
   "execution_count": 2,
   "id": "3ae7ba9b-d078-4619-a73c-4887977602d9",
   "metadata": {},
   "outputs": [
    {
     "data": {
      "text/plain": [
       "__main__.Student"
      ]
     },
     "execution_count": 2,
     "metadata": {},
     "output_type": "execute_result"
    }
   ],
   "source": [
    "\n",
    "type(student1)"
   ]
  },
  {
   "cell_type": "code",
   "execution_count": 3,
   "id": "fc18b556-9944-4ae5-b101-20a0a5aa1b76",
   "metadata": {},
   "outputs": [
    {
     "data": {
      "text/plain": [
       "'mani'"
      ]
     },
     "execution_count": 3,
     "metadata": {},
     "output_type": "execute_result"
    }
   ],
   "source": [
    "student1.name"
   ]
  },
  {
   "cell_type": "code",
   "execution_count": 4,
   "id": "ee2d8ad9-e2dd-499b-bb38-75a523d0460a",
   "metadata": {},
   "outputs": [
    {
     "name": "stdout",
     "output_type": "stream",
     "text": [
      "Name: mani\n",
      "Age: 20\n"
     ]
    }
   ],
   "source": [
    "student1.display_info()"
   ]
  },
  {
   "cell_type": "code",
   "execution_count": null,
   "id": "b041305c-feea-4b6a-b958-6558aeb62fba",
   "metadata": {},
   "outputs": [],
   "source": []
  },
  {
   "cell_type": "code",
   "execution_count": null,
   "id": "39c66943-b7a6-41a3-a9f5-cce63fa14c76",
   "metadata": {},
   "outputs": [],
   "source": []
  },
  {
   "cell_type": "markdown",
   "id": "b1ed42e5-bb75-47a7-86ff-e68f0ad5a8a5",
   "metadata": {},
   "source": [
    "# 2.Create a class with constructor"
   ]
  },
  {
   "cell_type": "code",
   "execution_count": 15,
   "id": "b7bd2ab1-d9f0-4f0b-8795-915c8278e014",
   "metadata": {},
   "outputs": [
    {
     "name": "stdout",
     "output_type": "stream",
     "text": [
      "Name: Mani\n",
      "age: 20\n"
     ]
    }
   ],
   "source": [
    "class Student:\n",
    "    def __init__(self, name, age):\n",
    "        self.name = name\n",
    "        self.__age = age\n",
    "    def display_info(self):\n",
    "        print(\"Name:\", self.name)\n",
    "        print(\"age:\", self.__age)\n",
    "#student2 = Student()\n",
    "\n",
    "student2 = Student(\"Mani\", 20)\n",
    "student2.display_info()\n"
   ]
  },
  {
   "cell_type": "code",
   "execution_count": 16,
   "id": "421d2a76-c0e9-45b5-8cb5-174b91b17dcc",
   "metadata": {},
   "outputs": [
    {
     "name": "stdout",
     "output_type": "stream",
     "text": [
      "Mani\n"
     ]
    }
   ],
   "source": [
    "print(student2.name)"
   ]
  },
  {
   "cell_type": "code",
   "execution_count": null,
   "id": "1257a22d-25a4-4e7a-9699-421dcb6d2cbb",
   "metadata": {},
   "outputs": [],
   "source": []
  },
  {
   "cell_type": "markdown",
   "id": "b6e135e3-b10b-40a7-9be8-ef55c08fbe06",
   "metadata": {},
   "source": [
    "# 3.Implement inheritance in Python"
   ]
  },
  {
   "cell_type": "code",
   "execution_count": 9,
   "id": "a6496294-6cfb-44db-914f-fbf1e0dfa0f4",
   "metadata": {},
   "outputs": [],
   "source": [
    "class Parent:\n",
    "    def show_info(self):\n",
    "     print(\"I'm a Parent\")\n",
    "\n",
    "class Child(Parent):\n",
    "    def show_childinfo(self):\n",
    "        print(\"I'm a child\")"
   ]
  },
  {
   "cell_type": "code",
   "execution_count": 10,
   "id": "df779daf-1c0e-48d7-96fd-17fb7917ae47",
   "metadata": {},
   "outputs": [],
   "source": [
    "child = Child()"
   ]
  },
  {
   "cell_type": "code",
   "execution_count": 12,
   "id": "10aeab52-5247-4169-ae87-49ac2b6cd9b4",
   "metadata": {},
   "outputs": [
    {
     "name": "stdout",
     "output_type": "stream",
     "text": [
      "I'm a child\n"
     ]
    }
   ],
   "source": [
    "child.show_childinfo()"
   ]
  },
  {
   "cell_type": "code",
   "execution_count": 13,
   "id": "c957dd37-d618-409b-a90d-efd7ef76fea7",
   "metadata": {},
   "outputs": [
    {
     "name": "stdout",
     "output_type": "stream",
     "text": [
      "I'm a Parent\n"
     ]
    }
   ],
   "source": [
    "child.show_info()"
   ]
  },
  {
   "cell_type": "code",
   "execution_count": null,
   "id": "f3c783ff-6a5b-45e9-8679-506c566b36a5",
   "metadata": {},
   "outputs": [],
   "source": []
  },
  {
   "cell_type": "code",
   "execution_count": null,
   "id": "65a2163d-910e-421d-b34a-368edad8cd5c",
   "metadata": {},
   "outputs": [],
   "source": []
  },
  {
   "cell_type": "markdown",
   "id": "3bd6f7c1-6f14-4cf2-84ef-3c4c67f99603",
   "metadata": {},
   "source": [
    "# 4. Implement method overriding"
   ]
  },
  {
   "cell_type": "code",
   "execution_count": 15,
   "id": "e82c0cf9-f6fc-4c59-8fe7-caa17b2674ca",
   "metadata": {},
   "outputs": [],
   "source": [
    "class Parent:\n",
    "    def show_info(self):\n",
    "        print(\"i'm a parent\")\n",
    "\n",
    "class Child:\n",
    "    def show_info(self):\n",
    "        print(\"i'm a child\")"
   ]
  },
  {
   "cell_type": "code",
   "execution_count": 16,
   "id": "23918bd1-e3c3-4dd4-b58f-4e06c19932a7",
   "metadata": {},
   "outputs": [],
   "source": [
    "a = Parent()\n",
    "b = Child()"
   ]
  },
  {
   "cell_type": "code",
   "execution_count": 17,
   "id": "ce3b4adb-8d3a-4a04-b1b9-34164ce361b3",
   "metadata": {},
   "outputs": [
    {
     "name": "stdout",
     "output_type": "stream",
     "text": [
      "i'm a parent\n"
     ]
    }
   ],
   "source": [
    "a.show_info()"
   ]
  },
  {
   "cell_type": "code",
   "execution_count": 18,
   "id": "069526f1-6f79-4c15-a72e-9c2819f902c4",
   "metadata": {},
   "outputs": [
    {
     "name": "stdout",
     "output_type": "stream",
     "text": [
      "i'm a child\n"
     ]
    }
   ],
   "source": [
    "b.show_info()"
   ]
  },
  {
   "cell_type": "code",
   "execution_count": null,
   "id": "4cefa44a-8176-439e-80c7-4b1270909a63",
   "metadata": {},
   "outputs": [],
   "source": []
  },
  {
   "cell_type": "markdown",
   "id": "9b10da74-49b0-4efa-bb13-671538eef623",
   "metadata": {},
   "source": [
    "# 5.Implement multiple inheritance"
   ]
  },
  {
   "cell_type": "code",
   "execution_count": 24,
   "id": "c8c3a0fc-5450-4542-b165-14372c82684d",
   "metadata": {},
   "outputs": [],
   "source": [
    "class Father:\n",
    "    def skills(self):\n",
    "        print(\"father: Driving, Work\")\n",
    "\n",
    "class Mother:\n",
    "    def skills(self):\n",
    "        print(\"Mother: Cooking, Painting\")\n",
    "\n",
    "class Child(Mother, Father):\n",
    "    def own_skills(self):\n",
    "        print(\"Child : Coding\")"
   ]
  },
  {
   "cell_type": "code",
   "execution_count": 25,
   "id": "a174ff09-b3cf-43e8-98e8-fc2e5e3459c0",
   "metadata": {},
   "outputs": [],
   "source": [
    "child1 = Child()"
   ]
  },
  {
   "cell_type": "code",
   "execution_count": 26,
   "id": "30801c37-f93a-47d6-b140-95a70c422115",
   "metadata": {},
   "outputs": [
    {
     "name": "stdout",
     "output_type": "stream",
     "text": [
      "Mother: Cooking, Painting\n"
     ]
    }
   ],
   "source": [
    "child1.skills()"
   ]
  },
  {
   "cell_type": "code",
   "execution_count": 27,
   "id": "9d14ab51-848a-4de8-8093-f46c0dafacb3",
   "metadata": {},
   "outputs": [
    {
     "name": "stdout",
     "output_type": "stream",
     "text": [
      "Child : Coding\n"
     ]
    }
   ],
   "source": [
    "child1.own_skills()"
   ]
  },
  {
   "cell_type": "code",
   "execution_count": null,
   "id": "899e29cb-fefd-435d-b329-de6f8e17c326",
   "metadata": {},
   "outputs": [],
   "source": []
  },
  {
   "cell_type": "markdown",
   "id": "d2e0bd0e-a561-426c-a737-f44857b30a4b",
   "metadata": {},
   "source": [
    "# 6.Implement polymorphism(method overLoading)"
   ]
  },
  {
   "cell_type": "code",
   "execution_count": 30,
   "id": "e5842014-b1fd-4632-aaf3-ef0dc543a0a2",
   "metadata": {},
   "outputs": [],
   "source": [
    "class Operation:\n",
    "    def sum(self,a,b, c =0):\n",
    "        return (a+b+c)\n",
    "    \n",
    "        "
   ]
  },
  {
   "cell_type": "code",
   "execution_count": 31,
   "id": "e0853bc5-d942-47e7-8f6b-fddf23af5bba",
   "metadata": {},
   "outputs": [],
   "source": [
    "obj = Operation()"
   ]
  },
  {
   "cell_type": "code",
   "execution_count": 33,
   "id": "1e4dc462-8c6e-4514-83d9-1abbee59418f",
   "metadata": {},
   "outputs": [
    {
     "data": {
      "text/plain": [
       "5"
      ]
     },
     "execution_count": 33,
     "metadata": {},
     "output_type": "execute_result"
    }
   ],
   "source": [
    "obj.sum(2,3)"
   ]
  },
  {
   "cell_type": "code",
   "execution_count": 34,
   "id": "73753096-7215-4ada-bd87-05d1d18c6e0c",
   "metadata": {},
   "outputs": [
    {
     "data": {
      "text/plain": [
       "9"
      ]
     },
     "execution_count": 34,
     "metadata": {},
     "output_type": "execute_result"
    }
   ],
   "source": [
    "obj.sum(2,3,4)"
   ]
  },
  {
   "cell_type": "code",
   "execution_count": null,
   "id": "70ef6330-4566-4d2e-89b3-04f5f9edb660",
   "metadata": {},
   "outputs": [],
   "source": []
  },
  {
   "cell_type": "code",
   "execution_count": null,
   "id": "aaa4a0a0-30fe-4bd3-9f26-fa1e798ec050",
   "metadata": {},
   "outputs": [],
   "source": []
  },
  {
   "cell_type": "code",
   "execution_count": null,
   "id": "1259ecaa-d7cf-439b-ac43-ccdfb3bfa864",
   "metadata": {},
   "outputs": [],
   "source": []
  },
  {
   "cell_type": "markdown",
   "id": "1a65aeae-21f1-40c8-90c9-b1dded9d33c5",
   "metadata": {},
   "source": [
    "# 7. Implement operator overloading"
   ]
  },
  {
   "cell_type": "markdown",
   "id": "3f0582dd-0980-40fe-b9b7-9a1125a16b40",
   "metadata": {},
   "source": [
    "class Book:\n",
    "    def __init__(self, pages):\n",
    "        self.pages = pages\n",
    "    def __add__(self, other):\n",
    "        return self.pages + other.pages"
   ]
  },
  {
   "cell_type": "code",
   "execution_count": 72,
   "id": "1da153f5-29d6-427f-906b-b6127ffd62d9",
   "metadata": {},
   "outputs": [],
   "source": [
    "b1 = Book(100)"
   ]
  },
  {
   "cell_type": "code",
   "execution_count": 73,
   "id": "9ad8dcef-625c-4006-b220-e02fd4c7a116",
   "metadata": {},
   "outputs": [],
   "source": [
    "b2 = Book(150)"
   ]
  },
  {
   "cell_type": "code",
   "execution_count": 74,
   "id": "35241bcc-bdc2-4ce4-a33d-5e4eba0fc5af",
   "metadata": {},
   "outputs": [
    {
     "data": {
      "text/plain": [
       "250"
      ]
     },
     "execution_count": 74,
     "metadata": {},
     "output_type": "execute_result"
    }
   ],
   "source": [
    "b1 + b2"
   ]
  },
  {
   "cell_type": "code",
   "execution_count": 75,
   "id": "717ef531-d236-42f1-a515-b96c2d912214",
   "metadata": {},
   "outputs": [
    {
     "data": {
      "text/plain": [
       "__main__.Book"
      ]
     },
     "execution_count": 75,
     "metadata": {},
     "output_type": "execute_result"
    }
   ],
   "source": [
    "type(b1)"
   ]
  },
  {
   "cell_type": "code",
   "execution_count": null,
   "id": "e61cdd2a-ab7b-4a11-8017-850de8bfd995",
   "metadata": {},
   "outputs": [],
   "source": []
  },
  {
   "cell_type": "code",
   "execution_count": null,
   "id": "29055aad-77d4-4955-9b9e-aa5304d33aa9",
   "metadata": {},
   "outputs": [],
   "source": []
  },
  {
   "cell_type": "code",
   "execution_count": null,
   "id": "172aed08-e98f-432f-a874-0c6af3855f20",
   "metadata": {},
   "outputs": [],
   "source": []
  },
  {
   "cell_type": "markdown",
   "id": "45872dde-27fe-4eb0-b3d8-ad2a30a6cd40",
   "metadata": {},
   "source": [
    "# 8.Create a class with private attributes"
   ]
  },
  {
   "cell_type": "code",
   "execution_count": 23,
   "id": "7a28ab69-7d3f-45c9-b559-77ee5492e31d",
   "metadata": {},
   "outputs": [],
   "source": [
    "class Student:\n",
    "    def __init__(self, name, marks):\n",
    "        self.name = name\n",
    "        self.__marks = marks\n",
    "    def display_info(self):\n",
    "        print(\"Name:\", self.name)\n",
    "        print(\"Marks:\", self.__marks)\n",
    "        "
   ]
  },
  {
   "cell_type": "code",
   "execution_count": 24,
   "id": "9085de22-88f0-4eb7-b965-f55a250df63a",
   "metadata": {},
   "outputs": [],
   "source": [
    "s1 = Student(\"Ramu\", 99)"
   ]
  },
  {
   "cell_type": "code",
   "execution_count": 25,
   "id": "46c0575d-9043-4c51-87f8-7d47390329ea",
   "metadata": {},
   "outputs": [
    {
     "ename": "AttributeError",
     "evalue": "'Student' object has no attribute '__name'",
     "output_type": "error",
     "traceback": [
      "\u001b[1;31m---------------------------------------------------------------------------\u001b[0m",
      "\u001b[1;31mAttributeError\u001b[0m                            Traceback (most recent call last)",
      "Cell \u001b[1;32mIn[25], line 1\u001b[0m\n\u001b[1;32m----> 1\u001b[0m s1\u001b[38;5;241m.\u001b[39m__name\n",
      "\u001b[1;31mAttributeError\u001b[0m: 'Student' object has no attribute '__name'"
     ]
    }
   ],
   "source": [
    "s1.__name"
   ]
  },
  {
   "cell_type": "code",
   "execution_count": 26,
   "id": "abce12d0-ca98-4bde-ae2c-d507eb38561d",
   "metadata": {},
   "outputs": [
    {
     "data": {
      "text/plain": [
       "'Ramu'"
      ]
     },
     "execution_count": 26,
     "metadata": {},
     "output_type": "execute_result"
    }
   ],
   "source": [
    "s1.name"
   ]
  },
  {
   "cell_type": "code",
   "execution_count": 27,
   "id": "1c522aa8-9db2-45f8-9cd7-ab9bca0a0933",
   "metadata": {},
   "outputs": [
    {
     "name": "stdout",
     "output_type": "stream",
     "text": [
      "Name: Ramu\n",
      "Marks: 99\n"
     ]
    }
   ],
   "source": [
    "s1.display_info()"
   ]
  },
  {
   "cell_type": "code",
   "execution_count": 28,
   "id": "d94e3414-5e8a-45b4-a1f1-27c8f581dd49",
   "metadata": {},
   "outputs": [
    {
     "ename": "AttributeError",
     "evalue": "'Student' object has no attribute '__age'",
     "output_type": "error",
     "traceback": [
      "\u001b[1;31m---------------------------------------------------------------------------\u001b[0m",
      "\u001b[1;31mAttributeError\u001b[0m                            Traceback (most recent call last)",
      "Cell \u001b[1;32mIn[28], line 1\u001b[0m\n\u001b[1;32m----> 1\u001b[0m s1\u001b[38;5;241m.\u001b[39m__age\n",
      "\u001b[1;31mAttributeError\u001b[0m: 'Student' object has no attribute '__age'"
     ]
    }
   ],
   "source": [
    "s1.__age"
   ]
  },
  {
   "cell_type": "code",
   "execution_count": null,
   "id": "9a64c1cb-b5a4-4ea3-a184-6523f40c0d22",
   "metadata": {},
   "outputs": [],
   "source": []
  },
  {
   "cell_type": "code",
   "execution_count": null,
   "id": "acdfdaeb-19fd-4a9d-b294-4d35fbd7cda9",
   "metadata": {},
   "outputs": [],
   "source": []
  },
  {
   "cell_type": "code",
   "execution_count": null,
   "id": "9404a851-313e-4e92-93a3-839989d91198",
   "metadata": {},
   "outputs": [],
   "source": []
  },
  {
   "cell_type": "code",
   "execution_count": null,
   "id": "4c6c74c7-5cec-4ea1-8649-6fff4d4a8ecb",
   "metadata": {},
   "outputs": [],
   "source": []
  },
  {
   "cell_type": "markdown",
   "id": "b7dd220d-6d08-4b0e-bc72-a5088d98ef45",
   "metadata": {},
   "source": [
    "# 9. Create a class with static and class methods"
   ]
  },
  {
   "cell_type": "code",
   "execution_count": 39,
   "id": "608260d3-c0e2-4fda-99a4-f3ab3395236e",
   "metadata": {},
   "outputs": [],
   "source": [
    "class Student:\n",
    "    school_name = \"ABC school\" # class Variable\n",
    "    def __init__(self, name, grade):  #instance variable\n",
    "        self.name = name\n",
    "        self.grade = grade\n",
    "\n",
    "    def display_info(self):               #instance method\n",
    "        print(\"Name:\", self.name)\n",
    "        print(\"grade:\", self.grade)\n",
    "\n",
    "    @classmethod                                   #class method\n",
    "    def get_school(cls):\n",
    "        print(\"School Name:\", cls.school_name)\n",
    "\n",
    "    @staticmethod                         #static method\n",
    "    def greet():\n",
    "        print(\"Welcome to the student portal\")\n",
    "    \n",
    "\n",
    "    "
   ]
  },
  {
   "cell_type": "code",
   "execution_count": 40,
   "id": "6a5bfb1d-7175-4b26-be95-a5c06249f2b4",
   "metadata": {},
   "outputs": [],
   "source": [
    "s1 = Student(\"Ramu\", \"A\")"
   ]
  },
  {
   "cell_type": "code",
   "execution_count": 41,
   "id": "700a6a63-989d-40a2-990b-53bab8a8f37b",
   "metadata": {},
   "outputs": [
    {
     "name": "stdout",
     "output_type": "stream",
     "text": [
      "Name: Ramu\n",
      "grade: A\n"
     ]
    }
   ],
   "source": [
    "s1.display_info()"
   ]
  },
  {
   "cell_type": "code",
   "execution_count": null,
   "id": "30a7a8fe-dadb-4307-a95e-73946fc85845",
   "metadata": {},
   "outputs": [],
   "source": []
  },
  {
   "cell_type": "code",
   "execution_count": null,
   "id": "cfa1cb4d-4de8-4d83-9898-823bdb8bd120",
   "metadata": {},
   "outputs": [],
   "source": []
  },
  {
   "cell_type": "code",
   "execution_count": 42,
   "id": "86366965-4d40-4423-bcee-280696af9984",
   "metadata": {},
   "outputs": [
    {
     "name": "stdout",
     "output_type": "stream",
     "text": [
      "School Name: ABC school\n"
     ]
    }
   ],
   "source": [
    "Student.get_school()"
   ]
  },
  {
   "cell_type": "code",
   "execution_count": 43,
   "id": "6219e392-b882-4ca8-90cc-8b28f3f6744b",
   "metadata": {},
   "outputs": [
    {
     "name": "stdout",
     "output_type": "stream",
     "text": [
      "Welcome to the student portal\n"
     ]
    }
   ],
   "source": [
    "Student.greet()"
   ]
  },
  {
   "cell_type": "code",
   "execution_count": null,
   "id": "48c657c3-40ca-450b-97f4-e1b8c1551e7c",
   "metadata": {},
   "outputs": [],
   "source": []
  },
  {
   "cell_type": "code",
   "execution_count": null,
   "id": "74b3d8c7-1d01-46dd-bb83-07c8540b3444",
   "metadata": {},
   "outputs": [],
   "source": []
  },
  {
   "cell_type": "code",
   "execution_count": null,
   "id": "e5ca6e56-db89-46d8-8371-8fb0859f5226",
   "metadata": {},
   "outputs": [],
   "source": []
  },
  {
   "cell_type": "markdown",
   "id": "33de706b-7345-42e4-9b6e-6d92c11c0ddc",
   "metadata": {},
   "source": [
    "# 10.Implement encapsulation in Python"
   ]
  },
  {
   "cell_type": "code",
   "execution_count": 1,
   "id": "1969a9fb-34de-4a5e-a4e7-b85a6e1b8624",
   "metadata": {},
   "outputs": [],
   "source": [
    "class BankAccount:\n",
    "    def __init__(self, name, balance):\n",
    "        self.__name = name\n",
    "        self.__balance = balance\n",
    "\n",
    "    def get_balance(self):  #getter method\n",
    "        return self.__balance\n",
    "\n",
    "    def deposit(self, amount):  #setter method\n",
    "        if amount > 0:\n",
    "            self.__balance += amount\n",
    "            print(f\"Deposited {amount}\")\n",
    "        else:\n",
    "            print(\"Invalid amount \")\n",
    "\n",
    "    def display_info(self):\n",
    "        print(\"Account Holder :\", self.__name)\n",
    "        print(\"current Balance:\", self.__balance)\n",
    "        \n",
    "            "
   ]
  },
  {
   "cell_type": "code",
   "execution_count": 2,
   "id": "805e93fd-1850-48d4-8e73-e171d91a4a06",
   "metadata": {},
   "outputs": [],
   "source": [
    "acc = BankAccount(\"Mani\", 2000)"
   ]
  },
  {
   "cell_type": "code",
   "execution_count": 3,
   "id": "a17d924c-505f-41bd-996b-1be8cdd0fa89",
   "metadata": {},
   "outputs": [
    {
     "name": "stdout",
     "output_type": "stream",
     "text": [
      "Account Holder : Mani\n",
      "current Balance: 2000\n"
     ]
    }
   ],
   "source": [
    "acc.display_info()"
   ]
  },
  {
   "cell_type": "code",
   "execution_count": 4,
   "id": "db3300c6-1a8b-42c2-baf9-d60d0a4e8cc1",
   "metadata": {},
   "outputs": [
    {
     "ename": "AttributeError",
     "evalue": "'BankAccount' object has no attribute '__name'",
     "output_type": "error",
     "traceback": [
      "\u001b[1;31m---------------------------------------------------------------------------\u001b[0m",
      "\u001b[1;31mAttributeError\u001b[0m                            Traceback (most recent call last)",
      "Cell \u001b[1;32mIn[4], line 1\u001b[0m\n\u001b[1;32m----> 1\u001b[0m acc\u001b[38;5;241m.\u001b[39m__name\n",
      "\u001b[1;31mAttributeError\u001b[0m: 'BankAccount' object has no attribute '__name'"
     ]
    }
   ],
   "source": [
    "acc.__name"
   ]
  },
  {
   "cell_type": "code",
   "execution_count": 5,
   "id": "ef48abfd-ec8a-4f40-a508-317927b4e669",
   "metadata": {},
   "outputs": [
    {
     "name": "stdout",
     "output_type": "stream",
     "text": [
      "Deposited 5000\n"
     ]
    }
   ],
   "source": [
    "acc.deposit(5000)"
   ]
  },
  {
   "cell_type": "code",
   "execution_count": 6,
   "id": "c2e9417d-18f1-4a84-b62c-5268d7af8200",
   "metadata": {},
   "outputs": [
    {
     "data": {
      "text/plain": [
       "7000"
      ]
     },
     "execution_count": 6,
     "metadata": {},
     "output_type": "execute_result"
    }
   ],
   "source": [
    "acc.get_balance()"
   ]
  },
  {
   "cell_type": "code",
   "execution_count": 7,
   "id": "360fa949-7b59-4bcc-84e9-ce261f168714",
   "metadata": {},
   "outputs": [
    {
     "ename": "AttributeError",
     "evalue": "'BankAccount' object has no attribute '__balance'",
     "output_type": "error",
     "traceback": [
      "\u001b[1;31m---------------------------------------------------------------------------\u001b[0m",
      "\u001b[1;31mAttributeError\u001b[0m                            Traceback (most recent call last)",
      "Cell \u001b[1;32mIn[7], line 1\u001b[0m\n\u001b[1;32m----> 1\u001b[0m acc\u001b[38;5;241m.\u001b[39m__balance\n",
      "\u001b[1;31mAttributeError\u001b[0m: 'BankAccount' object has no attribute '__balance'"
     ]
    }
   ],
   "source": [
    "acc.__balance"
   ]
  },
  {
   "cell_type": "code",
   "execution_count": null,
   "id": "972086fd-fb90-43b9-b465-9e49bb2e5759",
   "metadata": {},
   "outputs": [],
   "source": []
  }
 ],
 "metadata": {
  "kernelspec": {
   "display_name": "Python 3 (ipykernel)",
   "language": "python",
   "name": "python3"
  },
  "language_info": {
   "codemirror_mode": {
    "name": "ipython",
    "version": 3
   },
   "file_extension": ".py",
   "mimetype": "text/x-python",
   "name": "python",
   "nbconvert_exporter": "python",
   "pygments_lexer": "ipython3",
   "version": "3.11.7"
  }
 },
 "nbformat": 4,
 "nbformat_minor": 5
}
