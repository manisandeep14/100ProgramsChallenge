{
 "cells": [
  {
   "cell_type": "markdown",
   "id": "6316a170-bbf5-464b-b7dc-9dd3a27064dc",
   "metadata": {},
   "source": [
    "# Operations in a file"
   ]
  },
  {
   "cell_type": "markdown",
   "id": "8ce1afea-5e39-454f-af86-3a0ca8f56718",
   "metadata": {},
   "source": [
    "+ open a file - open()\n",
    "+ read a file - read(),readline(),readlines()\n",
    "+ write to a file - write(), writelines()\n",
    "+ Append to a file - \"a\" mode\n",
    "+ close a file - close()\n",
    "+ use with open() for better resource management\n",
    "+ Check if a file exists or not - os.path.exist\n",
    "+ delete a file - os-remove\n",
    "+ work with binary files - rb, wb modes"
   ]
  },
  {
   "cell_type": "code",
   "execution_count": null,
   "id": "ca73c5ee-453b-43c2-9798-a12f1e77ca12",
   "metadata": {},
   "outputs": [],
   "source": []
  },
  {
   "cell_type": "markdown",
   "id": "f1434f9e-383d-4b42-964b-1059b9ff4703",
   "metadata": {},
   "source": [
    "# 1. Create a file and display its content"
   ]
  },
  {
   "cell_type": "code",
   "execution_count": 10,
   "id": "f50a6c5c-872f-4440-b7f9-8e742e2d11d2",
   "metadata": {},
   "outputs": [],
   "source": [
    "file = open('pyfile.txt', 'r')\n",
    "content = file.read()"
   ]
  },
  {
   "cell_type": "code",
   "execution_count": 16,
   "id": "d701e5be-f885-48cb-91df-3a98b0f00e8c",
   "metadata": {},
   "outputs": [],
   "source": [
    "with open('pyfile.txt', 'r') as file:\n",
    "    content = file.read()"
   ]
  },
  {
   "cell_type": "code",
   "execution_count": 17,
   "id": "24062519-06fa-4364-990b-c609875c6631",
   "metadata": {},
   "outputs": [
    {
     "data": {
      "text/plain": [
       "'Hello, this is a new file\\nHello, World!\\nPython is secure language and easy to code'"
      ]
     },
     "execution_count": 17,
     "metadata": {},
     "output_type": "execute_result"
    }
   ],
   "source": [
    "content"
   ]
  },
  {
   "cell_type": "markdown",
   "id": "867fb64e-b68f-4376-9590-c7abe3f736e8",
   "metadata": {},
   "source": [
    "# 2. Write a string to a file"
   ]
  },
  {
   "cell_type": "code",
   "execution_count": 9,
   "id": "6236d70b-604d-4a22-a514-269c07af0787",
   "metadata": {},
   "outputs": [],
   "source": [
    "with open('pyfile.txt', 'w')as file:\n",
    "    file.write(\"Hello, this is a new file\\n\")\n",
    "    file.write(\"Hello, World!\")"
   ]
  },
  {
   "cell_type": "code",
   "execution_count": null,
   "id": "5f8d3365-be7b-4ac6-b8c9-535cefcbe857",
   "metadata": {},
   "outputs": [],
   "source": []
  },
  {
   "cell_type": "markdown",
   "id": "7a3833f1-6ab1-4702-85ab-a0d3c70bc040",
   "metadata": {},
   "source": [
    "# 3. Append text to a file"
   ]
  },
  {
   "cell_type": "code",
   "execution_count": 14,
   "id": "70fc07a2-eae2-4bec-8b5e-3ba063ba2c74",
   "metadata": {},
   "outputs": [],
   "source": [
    "with open('pyfile.txt', 'a') as file:\n",
    "    file.write(\"\\nPython is secure language and easy to code\")"
   ]
  },
  {
   "cell_type": "code",
   "execution_count": 18,
   "id": "42406417-de59-4621-a753-447012d7de31",
   "metadata": {},
   "outputs": [
    {
     "data": {
      "text/plain": [
       "'Hello, this is a new file\\nHello, World!\\nPython is secure language and easy to code'"
      ]
     },
     "execution_count": 18,
     "metadata": {},
     "output_type": "execute_result"
    }
   ],
   "source": [
    "content"
   ]
  },
  {
   "cell_type": "markdown",
   "id": "ae5ea47a-6947-4293-8b3c-56781b9ea185",
   "metadata": {},
   "source": [
    "# 4. Count the number of lines in a file."
   ]
  },
  {
   "cell_type": "code",
   "execution_count": 19,
   "id": "fd20a98e-5359-4bd1-813b-f5f9406b9b26",
   "metadata": {},
   "outputs": [],
   "source": [
    "def count_lines(filename):\n",
    "    with open(filename, 'r') as file:\n",
    "        lines  = file.readlines()\n",
    "        return len(lines)"
   ]
  },
  {
   "cell_type": "code",
   "execution_count": 20,
   "id": "c533e07f-b927-4676-bb64-9877f1188ff0",
   "metadata": {},
   "outputs": [
    {
     "data": {
      "text/plain": [
       "3"
      ]
     },
     "execution_count": 20,
     "metadata": {},
     "output_type": "execute_result"
    }
   ],
   "source": [
    "count_lines('pyfile.txt')"
   ]
  },
  {
   "cell_type": "markdown",
   "id": "b0fa1de3-b171-439f-95bb-dd4cdb911fe8",
   "metadata": {},
   "source": [
    "# 5. Count the number of words in a file"
   ]
  },
  {
   "cell_type": "code",
   "execution_count": 23,
   "id": "67a86ef0-bd45-49d1-9e00-27b26c8f234c",
   "metadata": {},
   "outputs": [],
   "source": [
    "def count_words(filename):\n",
    "    with open(filename, 'r') as file:\n",
    "        word_count = 0\n",
    "        for line in file:\n",
    "            words = line.split()\n",
    "            print(words)\n",
    "            word_count += len(words)\n",
    "    return word_count"
   ]
  },
  {
   "cell_type": "code",
   "execution_count": 24,
   "id": "35cc5e0e-2cad-45a5-ad2a-e031d01db04b",
   "metadata": {},
   "outputs": [
    {
     "name": "stdout",
     "output_type": "stream",
     "text": [
      "['Hello,', 'this', 'is', 'a', 'new', 'file']\n",
      "['Hello,', 'World!']\n",
      "['Python', 'is', 'secure', 'language', 'and', 'easy', 'to', 'code']\n"
     ]
    },
    {
     "data": {
      "text/plain": [
       "16"
      ]
     },
     "execution_count": 24,
     "metadata": {},
     "output_type": "execute_result"
    }
   ],
   "source": [
    "count_words('pyfile.txt')"
   ]
  },
  {
   "cell_type": "markdown",
   "id": "11769b5a-b6a4-4b68-a8ac-5bea0f195aed",
   "metadata": {},
   "source": [
    "# 6. Count the number of characters in a file"
   ]
  },
  {
   "cell_type": "code",
   "execution_count": 27,
   "id": "848548c2-a7c5-40ea-b39b-08c996b9760e",
   "metadata": {},
   "outputs": [],
   "source": [
    "def count_characters(filename):\n",
    "    with open(filename, 'r') as file:\n",
    "        #content = file.read()\n",
    "        return len(content)"
   ]
  },
  {
   "cell_type": "code",
   "execution_count": 29,
   "id": "2fe2758b-e06d-478f-b2c9-c69a950944f3",
   "metadata": {},
   "outputs": [
    {
     "data": {
      "text/plain": [
       "25"
      ]
     },
     "execution_count": 29,
     "metadata": {},
     "output_type": "execute_result"
    }
   ],
   "source": [
    "len('Hello, this is a new file')"
   ]
  },
  {
   "cell_type": "code",
   "execution_count": 30,
   "id": "440eed26-7b2e-42e2-adef-590379a4f6e2",
   "metadata": {},
   "outputs": [
    {
     "data": {
      "text/plain": [
       "13"
      ]
     },
     "execution_count": 30,
     "metadata": {},
     "output_type": "execute_result"
    }
   ],
   "source": [
    "len('Hello, World!')"
   ]
  },
  {
   "cell_type": "code",
   "execution_count": 31,
   "id": "18855139-1faf-49ad-b1d3-5ae542c0d611",
   "metadata": {},
   "outputs": [
    {
     "data": {
      "text/plain": [
       "42"
      ]
     },
     "execution_count": 31,
     "metadata": {},
     "output_type": "execute_result"
    }
   ],
   "source": [
    "len('Python is secure language and easy to code')"
   ]
  },
  {
   "cell_type": "code",
   "execution_count": 34,
   "id": "1980c9cf-d95b-4218-99e7-f3c178987619",
   "metadata": {},
   "outputs": [
    {
     "data": {
      "text/plain": [
       "82"
      ]
     },
     "execution_count": 34,
     "metadata": {},
     "output_type": "execute_result"
    }
   ],
   "source": [
    "len('Hello, this is a new file Hello, World! Python is secure language and easy to code')"
   ]
  },
  {
   "cell_type": "code",
   "execution_count": 28,
   "id": "92c1b7d0-bbd9-4f19-9b0d-18763c2cc7e1",
   "metadata": {},
   "outputs": [
    {
     "data": {
      "text/plain": [
       "82"
      ]
     },
     "execution_count": 28,
     "metadata": {},
     "output_type": "execute_result"
    }
   ],
   "source": [
    "count_characters('pyfile.txt')"
   ]
  },
  {
   "cell_type": "markdown",
   "id": "f5ee8353-0d99-4b89-8938-45c97ac7fc15",
   "metadata": {},
   "source": [
    "# 7. Find and replace a word in a file"
   ]
  },
  {
   "cell_type": "code",
   "execution_count": 41,
   "id": "38e1f495-020d-419e-9042-85aae37fa712",
   "metadata": {},
   "outputs": [],
   "source": [
    "def findreplace(filename, old_word, new_word):\n",
    "    with open(filename, 'r') as file:\n",
    "        content = file.read()\n",
    "\n",
    "    updated_content = content.replace(old_word, new_word)\n",
    "\n",
    "    with open(filename, 'w') as file:\n",
    "        file.write(updated_content)\n",
    "\n",
    "    print(f\"Replaced word '{old_word}' with '{new_word}' Successfully\")"
   ]
  },
  {
   "cell_type": "code",
   "execution_count": 43,
   "id": "156d287a-896d-4e4f-a0bc-6f78bd3c33fd",
   "metadata": {},
   "outputs": [
    {
     "name": "stdout",
     "output_type": "stream",
     "text": [
      "Replaced word 'easy' with 'complex' Successfully\n"
     ]
    }
   ],
   "source": [
    "findreplace('pyfile.txt','easy','complex')"
   ]
  },
  {
   "cell_type": "code",
   "execution_count": null,
   "id": "7bc6bda1-270e-4971-af4d-23061e973ea4",
   "metadata": {},
   "outputs": [],
   "source": []
  },
  {
   "cell_type": "markdown",
   "id": "bad3e74d-41e1-4e2e-85a0-f14851c10fae",
   "metadata": {},
   "source": [
    "# 8. Copy the content of one file to another"
   ]
  },
  {
   "cell_type": "code",
   "execution_count": 50,
   "id": "44bc2e88-d2b0-4f23-9abf-32d289a46a3f",
   "metadata": {},
   "outputs": [],
   "source": [
    "def  copy_file(source_file, destination_file):\n",
    "    with open(source_file, 'r') as src:\n",
    "        content = src.read()\n",
    "\n",
    "    with open(destination_file, 'w') as dest:\n",
    "        dest.write(content)\n",
    "\n",
    "    print(f\"copied content from '{source_file}' to '{destination_file}' successfully.\")"
   ]
  },
  {
   "cell_type": "code",
   "execution_count": 51,
   "id": "49fdde84-5cad-4aa3-bdf4-e05cb6b55c05",
   "metadata": {},
   "outputs": [
    {
     "name": "stdout",
     "output_type": "stream",
     "text": [
      "copied content from 'pyfile.txt' to 'pytext.txt' successfully.\n"
     ]
    }
   ],
   "source": [
    "copy_file('pyfile.txt', 'pytext.txt')"
   ]
  },
  {
   "cell_type": "markdown",
   "id": "b20ad68d-fab5-4ec4-ae2d-6abbd17ffed5",
   "metadata": {},
   "source": [
    "# 9. Remove special characters from a file"
   ]
  },
  {
   "cell_type": "code",
   "execution_count": 52,
   "id": "3b34fe96-3914-4cba-86b8-934ecba55d09",
   "metadata": {},
   "outputs": [],
   "source": [
    "import re\n",
    "\n",
    "def remove_special_char(filename):\n",
    "    with open(filename, 'r') as file:\n",
    "        content = file.read()\n",
    "\n",
    "    cleaned_content = re.sub(r\"[^a-zA-Z0-9\\s]\", \"\", content)\n",
    "\n",
    "    with open(filename, 'w') as file:\n",
    "        file.write(cleaned_content)\n",
    "\n",
    "    print(\"Special characters are removed\")"
   ]
  },
  {
   "cell_type": "code",
   "execution_count": 53,
   "id": "827b3efb-a0ae-4b4a-8792-cf7ef7b98ec8",
   "metadata": {},
   "outputs": [
    {
     "name": "stdout",
     "output_type": "stream",
     "text": [
      "Special characters are removed\n"
     ]
    }
   ],
   "source": [
    "remove_special_char('pytext.txt')"
   ]
  },
  {
   "cell_type": "markdown",
   "id": "7edf44d7-91bc-40e3-9b39-3236b6847a8f",
   "metadata": {},
   "source": [
    "# 10. Read a file line by line"
   ]
  },
  {
   "cell_type": "code",
   "execution_count": 54,
   "id": "89fba5db-7aa2-4127-87bf-20e5be2c2ad5",
   "metadata": {},
   "outputs": [
    {
     "name": "stdout",
     "output_type": "stream",
     "text": [
      "Hello, this is a new file\n",
      "Hello, World!\n",
      "Java is secure language and complex to code\n"
     ]
    }
   ],
   "source": [
    "with open('pyfile.txt', 'r') as file:\n",
    "    for line in file:\n",
    "        print(line.strip())"
   ]
  },
  {
   "cell_type": "code",
   "execution_count": null,
   "id": "3c8cc98b-bdb3-481b-8d3e-e3ea8ff1d6ae",
   "metadata": {},
   "outputs": [],
   "source": []
  },
  {
   "cell_type": "code",
   "execution_count": null,
   "id": "9d13e706-22be-4aa4-809f-b6b941cc8868",
   "metadata": {},
   "outputs": [],
   "source": []
  }
 ],
 "metadata": {
  "kernelspec": {
   "display_name": "Python 3 (ipykernel)",
   "language": "python",
   "name": "python3"
  },
  "language_info": {
   "codemirror_mode": {
    "name": "ipython",
    "version": 3
   },
   "file_extension": ".py",
   "mimetype": "text/x-python",
   "name": "python",
   "nbconvert_exporter": "python",
   "pygments_lexer": "ipython3",
   "version": "3.11.7"
  }
 },
 "nbformat": 4,
 "nbformat_minor": 5
}
