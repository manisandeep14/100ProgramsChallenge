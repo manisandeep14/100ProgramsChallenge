{
 "cells": [
  {
   "cell_type": "markdown",
   "id": "0e2a8977-aa5b-4e28-bc31-edacdf35ebc7",
   "metadata": {},
   "source": [
    "# 1. Reverse a String"
   ]
  },
  {
   "cell_type": "code",
   "execution_count": 1,
   "id": "67ed0d1d-d49d-424c-8cc4-6809e913d845",
   "metadata": {},
   "outputs": [
    {
     "name": "stdout",
     "output_type": "stream",
     "text": [
      "peednaS inaM\n"
     ]
    }
   ],
   "source": [
    "my_string = \"Mani Sandeep\"\n",
    "\n",
    "reverse = my_string[::-1]\n",
    "\n",
    "\n",
    "print(reverse)"
   ]
  },
  {
   "cell_type": "code",
   "execution_count": null,
   "id": "e0f57a34-5242-455b-be17-db8e76d539bd",
   "metadata": {},
   "outputs": [],
   "source": []
  },
  {
   "cell_type": "code",
   "execution_count": null,
   "id": "143373a5-96c1-4ef9-a516-e160b73d14da",
   "metadata": {},
   "outputs": [],
   "source": []
  },
  {
   "cell_type": "markdown",
   "id": "fe9846d5-b7d7-43d0-b14f-410178a3712b",
   "metadata": {},
   "source": [
    "# 2. Check if a string is a palindrome or not"
   ]
  },
  {
   "cell_type": "code",
   "execution_count": 3,
   "id": "d1a63ad0-885c-41ee-9cc6-2cddeefdb2d4",
   "metadata": {},
   "outputs": [
    {
     "name": "stdout",
     "output_type": "stream",
     "text": [
      "no\n"
     ]
    }
   ],
   "source": [
    "my_string = \"Mani Sandeep\"\n",
    "\n",
    "if my_string == my_string[::-1]:\n",
    "    print(\"yes\")\n",
    "else:\n",
    "    print(\"no\")"
   ]
  },
  {
   "cell_type": "code",
   "execution_count": null,
   "id": "4c6b97a8-e0f4-49bb-975e-90f782303581",
   "metadata": {},
   "outputs": [],
   "source": []
  },
  {
   "cell_type": "code",
   "execution_count": null,
   "id": "c4f30f86-60c6-4fc5-bb62-8852a7b2c7df",
   "metadata": {},
   "outputs": [],
   "source": []
  },
  {
   "cell_type": "markdown",
   "id": "6a13e245-4ce9-4b31-ab45-42815f3b3647",
   "metadata": {},
   "source": [
    "# 3. Count vowels and consonants in a string."
   ]
  },
  {
   "cell_type": "code",
   "execution_count": 6,
   "id": "ce7bc140-ab62-44e4-98d1-c2ee7c86a063",
   "metadata": {},
   "outputs": [
    {
     "name": "stdin",
     "output_type": "stream",
     "text": [
      " manisandeep\n"
     ]
    },
    {
     "name": "stdout",
     "output_type": "stream",
     "text": [
      "vowelsCount in my_sting :  5\n",
      "Consonants Count in my_string : 6\n"
     ]
    }
   ],
   "source": [
    "my_string = input()\n",
    "\n",
    "vowelsCount = 0\n",
    "consonantsCount = 0\n",
    "\n",
    "for i in range(len(my_string)):\n",
    "    if my_string[i] in 'a,e,i,o,u':\n",
    "        vowelsCount += 1\n",
    "    else:\n",
    "        consonantsCount += 1\n",
    "\n",
    "print(\"vowelsCount in my_sting : \", vowelsCount)\n",
    "print(\"Consonants Count in my_string :\", consonantsCount)"
   ]
  },
  {
   "cell_type": "code",
   "execution_count": null,
   "id": "df2f1337-f428-4d00-9dbe-6eb584f46aa9",
   "metadata": {},
   "outputs": [],
   "source": []
  },
  {
   "cell_type": "code",
   "execution_count": null,
   "id": "adda6111-bf39-4047-a00d-718d788b10eb",
   "metadata": {},
   "outputs": [],
   "source": []
  },
  {
   "cell_type": "markdown",
   "id": "9d43e935-b305-4497-b5be-ed818518d12e",
   "metadata": {},
   "source": [
    "# 4. Convert Lower case to Upper case letters in a String."
   ]
  },
  {
   "cell_type": "code",
   "execution_count": 9,
   "id": "cfec9e73-4ae5-4ffa-84e7-254454082459",
   "metadata": {},
   "outputs": [
    {
     "name": "stdin",
     "output_type": "stream",
     "text": [
      " mani sandeep\n"
     ]
    },
    {
     "name": "stdout",
     "output_type": "stream",
     "text": [
      "MANI SANDEEP\n"
     ]
    }
   ],
   "source": [
    "my_string = input()\n",
    "\n",
    "my_string = my_string.upper()\n",
    "\n",
    "print(my_string)"
   ]
  },
  {
   "cell_type": "code",
   "execution_count": null,
   "id": "8b2047c9-d3f4-44b4-a33a-3ab6c6103d43",
   "metadata": {},
   "outputs": [],
   "source": []
  },
  {
   "cell_type": "code",
   "execution_count": null,
   "id": "75b5d975-c828-412f-9185-0f723a4ddde4",
   "metadata": {},
   "outputs": [],
   "source": []
  },
  {
   "cell_type": "markdown",
   "id": "2a37dce0-a02b-464c-b96c-46287e82cf4c",
   "metadata": {},
   "source": [
    "# 5. Remove Vowels from a String."
   ]
  },
  {
   "cell_type": "code",
   "execution_count": 11,
   "id": "ee03ec94-e399-401e-b655-8b2036a24689",
   "metadata": {},
   "outputs": [
    {
     "name": "stdin",
     "output_type": "stream",
     "text": [
      " manisandeep\n"
     ]
    },
    {
     "name": "stdout",
     "output_type": "stream",
     "text": [
      " mnsndp\n"
     ]
    }
   ],
   "source": [
    "my_string = input()\n",
    "\n",
    "new_string = \" \"\n",
    "\n",
    "for i in my_string:\n",
    "    if i not in \"aeiou\":\n",
    "        new_string += i\n",
    "print(new_string)"
   ]
  },
  {
   "cell_type": "code",
   "execution_count": null,
   "id": "27fee77c-4038-4d97-9a76-ce290c07144d",
   "metadata": {},
   "outputs": [],
   "source": []
  },
  {
   "cell_type": "code",
   "execution_count": null,
   "id": "b2f9c549-fe28-4dc1-b36e-07b9005da385",
   "metadata": {},
   "outputs": [],
   "source": []
  },
  {
   "cell_type": "code",
   "execution_count": null,
   "id": "f6ed4241-4903-4e14-9d1c-7d7bc35eed29",
   "metadata": {},
   "outputs": [],
   "source": []
  },
  {
   "cell_type": "markdown",
   "id": "3d6fc375-85e7-4391-9537-43167a5a5c24",
   "metadata": {},
   "source": [
    "# 6. Count the Occurence of a character in a string."
   ]
  },
  {
   "cell_type": "code",
   "execution_count": 12,
   "id": "b56c1371-d662-4044-bada-a8fbc5c821b0",
   "metadata": {},
   "outputs": [
    {
     "name": "stdin",
     "output_type": "stream",
     "text": [
      " manisandeep\n",
      " e\n"
     ]
    },
    {
     "name": "stdout",
     "output_type": "stream",
     "text": [
      "2\n"
     ]
    }
   ],
   "source": [
    "my_string = input()\n",
    "\n",
    "my_char = input()\n",
    "\n",
    "count = 0\n",
    "\n",
    "for i in my_string:\n",
    "    if i == my_char:\n",
    "        count += 1\n",
    "\n",
    "print(count)"
   ]
  },
  {
   "cell_type": "code",
   "execution_count": null,
   "id": "6ad956eb-0b82-4ff8-8695-ad941f844920",
   "metadata": {},
   "outputs": [],
   "source": []
  },
  {
   "cell_type": "code",
   "execution_count": null,
   "id": "d6c4538d-0335-4ce3-b73b-2fb06c5c3595",
   "metadata": {},
   "outputs": [],
   "source": []
  },
  {
   "cell_type": "markdown",
   "id": "a53b9e71-fbce-4b7a-ae74-fca4b5445b55",
   "metadata": {},
   "source": [
    "# 7. Find the length of a string without using len()."
   ]
  },
  {
   "cell_type": "code",
   "execution_count": 13,
   "id": "5f498d83-4e82-49c3-865e-9d109a7da283",
   "metadata": {},
   "outputs": [
    {
     "data": {
      "text/plain": [
       "11"
      ]
     },
     "execution_count": 13,
     "metadata": {},
     "output_type": "execute_result"
    }
   ],
   "source": [
    "len(\"manisandeep\")"
   ]
  },
  {
   "cell_type": "code",
   "execution_count": 16,
   "id": "481b3f8c-267b-4910-9d18-37cfdaa9e40a",
   "metadata": {},
   "outputs": [
    {
     "name": "stdin",
     "output_type": "stream",
     "text": [
      " apple\n"
     ]
    },
    {
     "name": "stdout",
     "output_type": "stream",
     "text": [
      "5\n"
     ]
    }
   ],
   "source": [
    "my_string = input()\n",
    "\n",
    "count = 0\n",
    "\n",
    "for i in my_string:\n",
    "    count += 1\n",
    "\n",
    "print(count)"
   ]
  },
  {
   "cell_type": "code",
   "execution_count": null,
   "id": "cb29f2c7-8c14-4f5a-9c4c-33a756a6f915",
   "metadata": {},
   "outputs": [],
   "source": []
  },
  {
   "cell_type": "markdown",
   "id": "69b3e91b-ce72-48e1-a9a0-9fea29a514ec",
   "metadata": {},
   "source": [
    "# 8. Find the frequency of a word in a String."
   ]
  },
  {
   "cell_type": "code",
   "execution_count": 18,
   "id": "081daf81-9037-44ad-9308-4a6c148c0c34",
   "metadata": {},
   "outputs": [
    {
     "name": "stdout",
     "output_type": "stream",
     "text": [
      " i love python . i love to code python\n"
     ]
    },
    {
     "name": "stdin",
     "output_type": "stream",
     "text": [
      " python\n"
     ]
    },
    {
     "name": "stdout",
     "output_type": "stream",
     "text": [
      "2\n"
     ]
    }
   ],
   "source": [
    "my_string = \" i love python . i love to code python\"\n",
    "\n",
    "words = my_string.split()\n",
    "print(my_string)\n",
    "\n",
    "check_string = input()\n",
    "count = 0\n",
    "\n",
    "for i in words:\n",
    "    if i == check_string:\n",
    "        count += 1\n",
    "print(count)"
   ]
  },
  {
   "cell_type": "code",
   "execution_count": null,
   "id": "1ac0a0ff-c7bb-4c39-937f-8c9fedcf3d63",
   "metadata": {},
   "outputs": [],
   "source": []
  },
  {
   "cell_type": "code",
   "execution_count": null,
   "id": "6cbe6c77-a918-4886-9c88-645e82f1831f",
   "metadata": {},
   "outputs": [],
   "source": []
  },
  {
   "cell_type": "markdown",
   "id": "aeab3ea6-7b49-4d05-810b-1780c8ea1d1c",
   "metadata": {},
   "source": [
    "# 9. Replace a sub-string in a string."
   ]
  },
  {
   "cell_type": "code",
   "execution_count": 19,
   "id": "c2842512-6334-45c6-aea8-9833fe00cb85",
   "metadata": {},
   "outputs": [
    {
     "name": "stdin",
     "output_type": "stream",
     "text": [
      " java\n"
     ]
    },
    {
     "name": "stdout",
     "output_type": "stream",
     "text": [
      "java is fun to code. java is powerful programming language.\n"
     ]
    }
   ],
   "source": [
    "my_string = \"python is fun to code. python is powerful programming language.\"\n",
    "\n",
    "your_string = input()\n",
    "\n",
    "new_string = my_string.replace(\"python\", your_string)\n",
    "print(new_string)"
   ]
  },
  {
   "cell_type": "code",
   "execution_count": null,
   "id": "c7c16262-fa2e-4002-8253-d865c25b24e6",
   "metadata": {},
   "outputs": [],
   "source": []
  },
  {
   "cell_type": "code",
   "execution_count": null,
   "id": "31ab2efd-31f5-4b16-a3b5-d28c2fbfb035",
   "metadata": {},
   "outputs": [],
   "source": []
  },
  {
   "cell_type": "code",
   "execution_count": null,
   "id": "a24710b6-18ac-48f2-9239-2c45d68ed200",
   "metadata": {},
   "outputs": [],
   "source": []
  },
  {
   "cell_type": "markdown",
   "id": "68e6b011-f6e0-424f-b3eb-0591096a3b3f",
   "metadata": {},
   "source": [
    "# 10. Find the first non-repeationg character in a String."
   ]
  },
  {
   "cell_type": "code",
   "execution_count": 21,
   "id": "3ac0c8dd-a5fb-4179-8b40-c2545acc7c55",
   "metadata": {},
   "outputs": [
    {
     "name": "stdin",
     "output_type": "stream",
     "text": [
      " manisandeep\n"
     ]
    },
    {
     "name": "stdout",
     "output_type": "stream",
     "text": [
      " m\n"
     ]
    }
   ],
   "source": [
    "my_string = input()\n",
    "\n",
    "word = \" \"\n",
    "\n",
    "for i in my_string:\n",
    "    if my_string.count(i) == 1:\n",
    "        word += i\n",
    "        break\n",
    "\n",
    "print(word)"
   ]
  },
  {
   "cell_type": "code",
   "execution_count": null,
   "id": "825962b7-faab-4034-8806-83d07aa46584",
   "metadata": {},
   "outputs": [],
   "source": []
  },
  {
   "cell_type": "code",
   "execution_count": null,
   "id": "44751ad4-e7d7-41bf-b33c-776c085b3e7d",
   "metadata": {},
   "outputs": [],
   "source": []
  },
  {
   "cell_type": "code",
   "execution_count": null,
   "id": "71a373f3-1a03-4a08-8a62-a2a48c18b1e1",
   "metadata": {},
   "outputs": [],
   "source": []
  },
  {
   "cell_type": "code",
   "execution_count": null,
   "id": "37069fe1-236b-4034-b29a-545e814d5ddf",
   "metadata": {},
   "outputs": [],
   "source": []
  }
 ],
 "metadata": {
  "kernelspec": {
   "display_name": "Python 3 (ipykernel)",
   "language": "python",
   "name": "python3"
  },
  "language_info": {
   "codemirror_mode": {
    "name": "ipython",
    "version": 3
   },
   "file_extension": ".py",
   "mimetype": "text/x-python",
   "name": "python",
   "nbconvert_exporter": "python",
   "pygments_lexer": "ipython3",
   "version": "3.11.7"
  }
 },
 "nbformat": 4,
 "nbformat_minor": 5
}
