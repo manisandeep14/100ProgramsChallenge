{
 "cells": [
  {
   "cell_type": "markdown",
   "id": "92b2171d-91f6-48a9-8582-aed2bb0edeaa",
   "metadata": {},
   "source": [
    "# 1. Print all even numbers in a range"
   ]
  },
  {
   "cell_type": "code",
   "execution_count": 2,
   "id": "fe3f0ebf-32f2-41a4-bc0e-22287c7fbf87",
   "metadata": {},
   "outputs": [
    {
     "name": "stdin",
     "output_type": "stream",
     "text": [
      " 10\n"
     ]
    },
    {
     "name": "stdout",
     "output_type": "stream",
     "text": [
      "2 4 6 8 10 "
     ]
    }
   ],
   "source": [
    "n = int(input())\n",
    "\n",
    "for i in range(1, n+1):\n",
    "    if i % 2 == 0:\n",
    "        print(i, end = \" \")"
   ]
  },
  {
   "cell_type": "code",
   "execution_count": null,
   "id": "d4776d52-14dc-41f8-9316-437abe96eb8a",
   "metadata": {},
   "outputs": [],
   "source": []
  },
  {
   "cell_type": "markdown",
   "id": "8fc137bd-c51c-4413-8979-a37c43dd0cc7",
   "metadata": {},
   "source": [
    "# 2 . Print all odd numbers in a range"
   ]
  },
  {
   "cell_type": "code",
   "execution_count": 3,
   "id": "a597095b-8e8a-4853-9927-4aad8020cdce",
   "metadata": {},
   "outputs": [
    {
     "name": "stdin",
     "output_type": "stream",
     "text": [
      " 10\n"
     ]
    },
    {
     "name": "stdout",
     "output_type": "stream",
     "text": [
      "1 3 5 7 9 "
     ]
    }
   ],
   "source": [
    "n = int (input())\n",
    "\n",
    "for i in range(1,n+1):\n",
    "    if i % 2 != 0 :\n",
    "        print(i, end = \" \" )"
   ]
  },
  {
   "cell_type": "code",
   "execution_count": null,
   "id": "8a2b1bef-4c17-45a9-99ce-f11a5d157b8b",
   "metadata": {},
   "outputs": [],
   "source": []
  },
  {
   "cell_type": "code",
   "execution_count": null,
   "id": "f3d70ff4-6377-413d-b1a8-bb192772d2f2",
   "metadata": {},
   "outputs": [],
   "source": []
  },
  {
   "cell_type": "markdown",
   "id": "d979cb32-20e8-419f-9762-57d2c2f4a74d",
   "metadata": {},
   "source": [
    "# 3. Check if a number is a prime number or not"
   ]
  },
  {
   "cell_type": "code",
   "execution_count": 8,
   "id": "7b342382-6eab-440f-842e-83cf25ae5c4b",
   "metadata": {},
   "outputs": [
    {
     "name": "stdin",
     "output_type": "stream",
     "text": [
      " 97\n"
     ]
    },
    {
     "name": "stdout",
     "output_type": "stream",
     "text": [
      "it's a prime\n"
     ]
    }
   ],
   "source": [
    "number = int(input())\n",
    "\n",
    "for i in range(2, number):\n",
    "    if number % i == 0:\n",
    "        print(\"it's not a prime\")\n",
    "        break\n",
    "        \n",
    "else:\n",
    "    print(\"it's a prime\")\n",
    "    "
   ]
  },
  {
   "cell_type": "code",
   "execution_count": null,
   "id": "1b2e5546-4a37-4c31-8aa2-c666f6ee7e27",
   "metadata": {},
   "outputs": [],
   "source": []
  },
  {
   "cell_type": "code",
   "execution_count": null,
   "id": "7bc26587-f88d-4db9-a1c4-b9f7097c4ef8",
   "metadata": {},
   "outputs": [],
   "source": []
  },
  {
   "cell_type": "markdown",
   "id": "68151601-0970-4adf-8d28-4efab34c4b65",
   "metadata": {},
   "source": [
    "# 4. Print prime nubers in a given range"
   ]
  },
  {
   "cell_type": "code",
   "execution_count": 9,
   "id": "b1b2d273-8054-4cf8-aa3d-f7c714fef297",
   "metadata": {},
   "outputs": [
    {
     "name": "stdin",
     "output_type": "stream",
     "text": [
      " 2\n",
      " 10\n"
     ]
    },
    {
     "name": "stdout",
     "output_type": "stream",
     "text": [
      "[2, 3, 5, 7]\n"
     ]
    }
   ],
   "source": [
    "numOne = int(input())\n",
    "numTwo = int(input())\n",
    "\n",
    "\n",
    "list_prime = []\n",
    "\n",
    "for i in range(numOne, numTwo):\n",
    "    for n in range(2, i):\n",
    "        if i % n == 0:\n",
    "            break\n",
    "    else:\n",
    "        list_prime.append(i)\n",
    "\n",
    "print(list_prime)\n",
    "        \n",
    "    "
   ]
  },
  {
   "cell_type": "code",
   "execution_count": null,
   "id": "0df338fc-c85b-4f53-aa58-d4c462e03bf6",
   "metadata": {},
   "outputs": [],
   "source": []
  },
  {
   "cell_type": "code",
   "execution_count": null,
   "id": "edcfef2f-b7ae-49a5-bfbb-1a2881f57e5d",
   "metadata": {},
   "outputs": [],
   "source": []
  },
  {
   "cell_type": "markdown",
   "id": "f2f1a3b3-928e-4b8a-8def-75e5cec57919",
   "metadata": {},
   "source": [
    "# 5. Print Fibonacci Series upto n terms"
   ]
  },
  {
   "cell_type": "code",
   "execution_count": 10,
   "id": "283b1fea-5800-45b0-a03d-e4938a1a76e2",
   "metadata": {},
   "outputs": [
    {
     "name": "stdin",
     "output_type": "stream",
     "text": [
      " 10\n"
     ]
    },
    {
     "name": "stdout",
     "output_type": "stream",
     "text": [
      "0\n",
      "1\n",
      "1\n",
      "2\n",
      "3\n",
      "5\n",
      "8\n",
      "13\n",
      "21\n",
      "34\n"
     ]
    }
   ],
   "source": [
    "n_term = int(input())\n",
    "\n",
    "count = 0\n",
    "\n",
    "n1 = 0\n",
    "n2 = 1\n",
    "\n",
    "while count < n_term :\n",
    "    print(n1)\n",
    "    n3 = n1 + n2\n",
    "    n1 = n2 \n",
    "    n2 = n3\n",
    "    count +=1"
   ]
  },
  {
   "cell_type": "code",
   "execution_count": null,
   "id": "6d967fe2-b388-454c-ad2d-f8750ba4d4a4",
   "metadata": {},
   "outputs": [],
   "source": []
  },
  {
   "cell_type": "code",
   "execution_count": null,
   "id": "b87898e5-f07c-4474-823a-0d9603ec8025",
   "metadata": {},
   "outputs": [],
   "source": []
  },
  {
   "cell_type": "markdown",
   "id": "8a6dfbb9-d6fd-4325-99f3-eec9b8ca1601",
   "metadata": {},
   "source": [
    "# 6. Find the summ  of first N natural numbers"
   ]
  },
  {
   "cell_type": "code",
   "execution_count": 11,
   "id": "d561e5ec-f9f1-4af3-83ee-1f59bdbcb6fd",
   "metadata": {},
   "outputs": [
    {
     "name": "stdin",
     "output_type": "stream",
     "text": [
      " 5\n"
     ]
    },
    {
     "name": "stdout",
     "output_type": "stream",
     "text": [
      "10\n"
     ]
    }
   ],
   "source": [
    "number = int(input())\n",
    "\n",
    "sum_of_digits = 0\n",
    "\n",
    "for i in range(1, number):\n",
    "    sum_of_digits = sum_of_digits + i\n",
    "print(sum_of_digits)"
   ]
  },
  {
   "cell_type": "code",
   "execution_count": null,
   "id": "88bcffda-1ab1-441e-8680-acf2abbf72b0",
   "metadata": {},
   "outputs": [],
   "source": []
  },
  {
   "cell_type": "code",
   "execution_count": null,
   "id": "2652fa4e-d9a4-4418-bb82-a45cb092d80b",
   "metadata": {},
   "outputs": [],
   "source": []
  },
  {
   "cell_type": "markdown",
   "id": "36bb45a8-5d82-42a0-9dcd-54bdc6d6264e",
   "metadata": {},
   "source": [
    "# 7. Find the sum of squares of first N natural numbers"
   ]
  },
  {
   "cell_type": "code",
   "execution_count": 12,
   "id": "68b6c668-b2be-4a88-bab7-1988c9970ce2",
   "metadata": {},
   "outputs": [
    {
     "name": "stdin",
     "output_type": "stream",
     "text": [
      " 3\n"
     ]
    },
    {
     "name": "stdout",
     "output_type": "stream",
     "text": [
      "14\n"
     ]
    }
   ],
   "source": [
    "number = int(input())\n",
    "\n",
    "sum_of_squares = 0\n",
    "\n",
    "for i in range(1, number+1):\n",
    "    sum_of_squares = sum_of_squares + i * i\n",
    "print(sum_of_squares)\n",
    "    "
   ]
  },
  {
   "cell_type": "code",
   "execution_count": null,
   "id": "b978805f-a44a-4482-a7b7-0068146ca8f1",
   "metadata": {},
   "outputs": [],
   "source": []
  },
  {
   "cell_type": "code",
   "execution_count": null,
   "id": "071057ff-a28b-426c-bd7c-76aaaa46d128",
   "metadata": {},
   "outputs": [],
   "source": []
  },
  {
   "cell_type": "markdown",
   "id": "6ba77f32-9fb1-4977-95a2-9486dc21b15c",
   "metadata": {},
   "source": [
    "# 8. Find the sum of cubes of first N natural numbers"
   ]
  },
  {
   "cell_type": "code",
   "execution_count": 14,
   "id": "e725f781-889e-48a1-a67f-dca018cedcf8",
   "metadata": {},
   "outputs": [
    {
     "name": "stdin",
     "output_type": "stream",
     "text": [
      " 3\n"
     ]
    },
    {
     "name": "stdout",
     "output_type": "stream",
     "text": [
      "36\n"
     ]
    }
   ],
   "source": [
    "number = int(input())\n",
    "\n",
    "sum_of_cubes = 0\n",
    "\n",
    "for i in range(1, number+1):\n",
    "    sum_of_cubes = sum_of_cubes + i *i *i\n",
    "\n",
    "print(sum_of_cubes)"
   ]
  },
  {
   "cell_type": "code",
   "execution_count": null,
   "id": "ab33dffa-4f6d-48ca-9e89-b734c9c6c9f5",
   "metadata": {},
   "outputs": [],
   "source": []
  },
  {
   "cell_type": "code",
   "execution_count": null,
   "id": "361a8e93-fe6d-4286-a7b4-18bff60131d1",
   "metadata": {},
   "outputs": [],
   "source": []
  },
  {
   "cell_type": "markdown",
   "id": "8a5b1011-cde6-47ad-b6ca-f42938728858",
   "metadata": {},
   "source": [
    "# 9. Print Multiplication table of a number."
   ]
  },
  {
   "cell_type": "code",
   "execution_count": 17,
   "id": "02240893-e1ef-429d-bd83-a9c196ec0d63",
   "metadata": {},
   "outputs": [
    {
     "name": "stdin",
     "output_type": "stream",
     "text": [
      " 9\n"
     ]
    },
    {
     "name": "stdout",
     "output_type": "stream",
     "text": [
      "9 * 1 = 9\n",
      "9 * 2 = 18\n",
      "9 * 3 = 27\n",
      "9 * 4 = 36\n",
      "9 * 5 = 45\n",
      "9 * 6 = 54\n",
      "9 * 7 = 63\n",
      "9 * 8 = 72\n",
      "9 * 9 = 81\n",
      "9 * 10 = 90\n"
     ]
    }
   ],
   "source": [
    "number = int(input())\n",
    "\n",
    "result = 0\n",
    "\n",
    "for i in range(1, 11):\n",
    "    result = number * i\n",
    "    print(f\"9 * {i} =\",result)"
   ]
  },
  {
   "cell_type": "code",
   "execution_count": null,
   "id": "5a52844b-bd43-4236-9314-a5d1f21ad851",
   "metadata": {},
   "outputs": [],
   "source": []
  },
  {
   "cell_type": "code",
   "execution_count": null,
   "id": "679a9ed1-f7a9-4a2a-8465-1914732be657",
   "metadata": {},
   "outputs": [],
   "source": []
  },
  {
   "cell_type": "markdown",
   "id": "30047e12-c41a-4cdc-9239-5d03d988cb5e",
   "metadata": {},
   "source": [
    "# 10. Count the number of digits in a number"
   ]
  },
  {
   "cell_type": "code",
   "execution_count": 19,
   "id": "eb61b80d-b196-43a1-bfb3-0536295c8f85",
   "metadata": {},
   "outputs": [
    {
     "name": "stdin",
     "output_type": "stream",
     "text": [
      " 123456789\n"
     ]
    },
    {
     "name": "stdout",
     "output_type": "stream",
     "text": [
      "9\n"
     ]
    }
   ],
   "source": [
    "number = int(input())\n",
    "\n",
    "count = 0\n",
    "\n",
    "while number >0:\n",
    "    count += 1\n",
    "    number = number //10\n",
    "print(count)"
   ]
  },
  {
   "cell_type": "code",
   "execution_count": null,
   "id": "125667b7-3eed-42ec-9480-a13e832bd68b",
   "metadata": {},
   "outputs": [],
   "source": []
  },
  {
   "cell_type": "code",
   "execution_count": null,
   "id": "2fb97a2c-1328-42e1-9793-9d5846a6368d",
   "metadata": {},
   "outputs": [],
   "source": []
  },
  {
   "cell_type": "code",
   "execution_count": null,
   "id": "6ab5efbe-ba2d-4599-b70f-ab42168728ac",
   "metadata": {},
   "outputs": [],
   "source": []
  }
 ],
 "metadata": {
  "kernelspec": {
   "display_name": "Python 3 (ipykernel)",
   "language": "python",
   "name": "python3"
  },
  "language_info": {
   "codemirror_mode": {
    "name": "ipython",
    "version": 3
   },
   "file_extension": ".py",
   "mimetype": "text/x-python",
   "name": "python",
   "nbconvert_exporter": "python",
   "pygments_lexer": "ipython3",
   "version": "3.11.7"
  }
 },
 "nbformat": 4,
 "nbformat_minor": 5
}
