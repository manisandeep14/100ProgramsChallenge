{
 "cells": [
  {
   "cell_type": "markdown",
   "id": "7dd9ffb6-ce13-4709-80ed-4a3e2771ba07",
   "metadata": {},
   "source": [
    "# 1. Find the largest element in the list"
   ]
  },
  {
   "cell_type": "code",
   "execution_count": 34,
   "id": "c5dfb720-db90-4263-bfc8-464a236249ee",
   "metadata": {},
   "outputs": [],
   "source": [
    "sentence = \"Python is easy to code . I love to code python.\""
   ]
  },
  {
   "cell_type": "code",
   "execution_count": 5,
   "id": "b709f7de-98de-4a40-ae31-015e57c8605f",
   "metadata": {},
   "outputs": [],
   "source": [
    "List = sentence.split()"
   ]
  },
  {
   "cell_type": "code",
   "execution_count": 6,
   "id": "66fe42ca-a1b9-4732-a7a0-8a2137499741",
   "metadata": {},
   "outputs": [
    {
     "data": {
      "text/plain": [
       "['Python', 'is', 'easy', 'to', 'code.', 'I', 'love', 'to', 'code', 'python.']"
      ]
     },
     "execution_count": 6,
     "metadata": {},
     "output_type": "execute_result"
    }
   ],
   "source": [
    "List"
   ]
  },
  {
   "cell_type": "code",
   "execution_count": 8,
   "id": "2cc96c1f-c72c-4170-93ac-7f4c65cdf003",
   "metadata": {},
   "outputs": [],
   "source": [
    "Tuples = tuple(sentence.split())"
   ]
  },
  {
   "cell_type": "code",
   "execution_count": 9,
   "id": "3477945d-0a4b-4e31-9d62-cf4b18b3c3ce",
   "metadata": {},
   "outputs": [
    {
     "data": {
      "text/plain": [
       "('Python', 'is', 'easy', 'to', 'code.', 'I', 'love', 'to', 'code', 'python.')"
      ]
     },
     "execution_count": 9,
     "metadata": {},
     "output_type": "execute_result"
    }
   ],
   "source": [
    "Tuples"
   ]
  },
  {
   "cell_type": "code",
   "execution_count": 12,
   "id": "83faa910-0d21-4652-9fdc-d699ead73f05",
   "metadata": {},
   "outputs": [
    {
     "name": "stdout",
     "output_type": "stream",
     "text": [
      "18\n"
     ]
    }
   ],
   "source": [
    "list = [1, 10, 12 , 14, 15, 18, 11]\n",
    "\n",
    "Greatest = 0\n",
    "\n",
    "for i in list:\n",
    "    if i > Greatest:\n",
    "        Greatest = i\n",
    "print(Greatest)"
   ]
  },
  {
   "cell_type": "code",
   "execution_count": null,
   "id": "796393c4-2011-42ef-85ca-f8d4cde5e30d",
   "metadata": {},
   "outputs": [],
   "source": []
  },
  {
   "cell_type": "code",
   "execution_count": null,
   "id": "25084a3d-409b-436a-bcf8-8cbd43ad8c9f",
   "metadata": {},
   "outputs": [],
   "source": []
  },
  {
   "cell_type": "markdown",
   "id": "f0b83c8b-f87e-41cf-be95-22822354eeda",
   "metadata": {},
   "source": [
    "# 2. Find the smallest element in the list"
   ]
  },
  {
   "cell_type": "code",
   "execution_count": 13,
   "id": "1389a366-5c3f-41b7-88fd-e7edaa909f1e",
   "metadata": {},
   "outputs": [
    {
     "data": {
      "text/plain": [
       "[1, 10, 12, 14, 15, 18, 11]"
      ]
     },
     "execution_count": 13,
     "metadata": {},
     "output_type": "execute_result"
    }
   ],
   "source": [
    "list"
   ]
  },
  {
   "cell_type": "code",
   "execution_count": 14,
   "id": "5fc31471-93df-45e3-887e-4b58cd0e7b45",
   "metadata": {},
   "outputs": [],
   "source": [
    "list1 = [34, 53, 32, 16, 23]"
   ]
  },
  {
   "cell_type": "code",
   "execution_count": 15,
   "id": "ed970fcb-843e-4875-8bb7-ed107967872f",
   "metadata": {},
   "outputs": [
    {
     "name": "stdout",
     "output_type": "stream",
     "text": [
      "16\n"
     ]
    }
   ],
   "source": [
    "list1.sort()\n",
    "\n",
    "print(list1[0])"
   ]
  },
  {
   "cell_type": "markdown",
   "id": "ebef4460-be0c-4719-a534-c417189133b1",
   "metadata": {},
   "source": [
    "# 3. Find the sum of elements in the list"
   ]
  },
  {
   "cell_type": "code",
   "execution_count": 16,
   "id": "7680c53c-f52a-4bc2-a180-16f9dedf1f49",
   "metadata": {},
   "outputs": [
    {
     "data": {
      "text/plain": [
       "[1, 10, 12, 14, 15, 18, 11]"
      ]
     },
     "execution_count": 16,
     "metadata": {},
     "output_type": "execute_result"
    }
   ],
   "source": [
    "list"
   ]
  },
  {
   "cell_type": "code",
   "execution_count": 17,
   "id": "b5b59f45-98b9-437b-ac27-1d0df0297304",
   "metadata": {},
   "outputs": [
    {
     "name": "stdout",
     "output_type": "stream",
     "text": [
      "81\n"
     ]
    }
   ],
   "source": [
    "result = 0\n",
    "\n",
    "for i in list:\n",
    "    result = result + i \n",
    "print(result)"
   ]
  },
  {
   "cell_type": "code",
   "execution_count": null,
   "id": "90764d29-9ea1-4561-aa97-cc97d00c5e01",
   "metadata": {},
   "outputs": [],
   "source": []
  },
  {
   "cell_type": "markdown",
   "id": "63567fb0-f233-4d2f-83ad-792a6091fe41",
   "metadata": {},
   "source": [
    "# 4. Find the average of elements in the list"
   ]
  },
  {
   "cell_type": "code",
   "execution_count": 27,
   "id": "2ae6394f-d998-4e70-8eb6-9fe149a1a431",
   "metadata": {},
   "outputs": [
    {
     "name": "stdout",
     "output_type": "stream",
     "text": [
      "3.0\n"
     ]
    }
   ],
   "source": [
    "list = [1, 2, 3, 4, 5]\n",
    "\n",
    "sum = 0\n",
    "avg = 0\n",
    "count = 0\n",
    "\n",
    "for i in list:\n",
    "    count += 1\n",
    "    sum += i\n",
    "\n",
    "avg = sum/count\n",
    "\n",
    "print(avg)"
   ]
  },
  {
   "cell_type": "code",
   "execution_count": null,
   "id": "53ea34eb-b6d1-4ffe-8a1b-36388766e8d0",
   "metadata": {},
   "outputs": [],
   "source": []
  },
  {
   "cell_type": "code",
   "execution_count": null,
   "id": "31cb42ce-ede2-481f-98a1-e0940915c3aa",
   "metadata": {},
   "outputs": [],
   "source": []
  },
  {
   "cell_type": "code",
   "execution_count": null,
   "id": "5292a3c9-8b61-40ce-9872-ebbd862eacb9",
   "metadata": {},
   "outputs": [],
   "source": []
  },
  {
   "cell_type": "markdown",
   "id": "c61d8bc0-85ea-4736-8e89-027cdaf21a9f",
   "metadata": {},
   "source": [
    "# 5. Remove duplicates from the list"
   ]
  },
  {
   "cell_type": "code",
   "execution_count": 28,
   "id": "6a0f58d6-70b7-47bf-becc-d9e62551e689",
   "metadata": {},
   "outputs": [],
   "source": [
    "my_list = [1,1,2,3,4,3,2,3,4,4,6,7,6]"
   ]
  },
  {
   "cell_type": "code",
   "execution_count": 29,
   "id": "8498382f-a3ed-4912-beeb-ed82bd7a66c1",
   "metadata": {},
   "outputs": [
    {
     "name": "stdout",
     "output_type": "stream",
     "text": [
      "[1, 2, 3, 4, 6, 7]\n"
     ]
    }
   ],
   "source": [
    "new_list = []\n",
    "for i in my_list:\n",
    "    if i not in new_list:\n",
    "        new_list.append(i)\n",
    "\n",
    "print(new_list)"
   ]
  },
  {
   "cell_type": "code",
   "execution_count": null,
   "id": "6b12b2ab-b0b2-4ffe-aab9-d00db0a06419",
   "metadata": {},
   "outputs": [],
   "source": []
  },
  {
   "cell_type": "markdown",
   "id": "c8863d58-c23b-4ad5-9129-764555d9fce0",
   "metadata": {},
   "source": [
    "# 6. Count occurance of an element in a list"
   ]
  },
  {
   "cell_type": "code",
   "execution_count": 35,
   "id": "c06317bb-9217-4eca-a1dd-d1114b9945d1",
   "metadata": {},
   "outputs": [
    {
     "data": {
      "text/plain": [
       "'Python is easy to code . I love to code python.'"
      ]
     },
     "execution_count": 35,
     "metadata": {},
     "output_type": "execute_result"
    }
   ],
   "source": [
    "sentence "
   ]
  },
  {
   "cell_type": "code",
   "execution_count": 36,
   "id": "e1485cde-0124-43ad-bf37-d077197d03f9",
   "metadata": {},
   "outputs": [
    {
     "data": {
      "text/plain": [
       "['Python',\n",
       " 'is',\n",
       " 'easy',\n",
       " 'to',\n",
       " 'code',\n",
       " '.',\n",
       " 'I',\n",
       " 'love',\n",
       " 'to',\n",
       " 'code',\n",
       " 'python.']"
      ]
     },
     "execution_count": 36,
     "metadata": {},
     "output_type": "execute_result"
    }
   ],
   "source": [
    "list = sentence.split()\n",
    "\n",
    "list"
   ]
  },
  {
   "cell_type": "code",
   "execution_count": 38,
   "id": "a0c8878c-c51c-4b14-a6bf-c48e80b9a5cd",
   "metadata": {},
   "outputs": [
    {
     "name": "stdin",
     "output_type": "stream",
     "text": [
      " code\n"
     ]
    },
    {
     "name": "stdout",
     "output_type": "stream",
     "text": [
      "The element 'code' occured 2 times. \n"
     ]
    }
   ],
   "source": [
    "count = 0\n",
    "\n",
    "ele = input()\n",
    "\n",
    "for i in list :\n",
    "    if i == ele:\n",
    "        count += 1\n",
    "\n",
    "print(f\"The element '{ele}' occured {count} times. \")"
   ]
  },
  {
   "cell_type": "markdown",
   "id": "a6282621-6ef9-456e-be73-82cecb1082a7",
   "metadata": {},
   "source": [
    "# 7. Reverse a list "
   ]
  },
  {
   "cell_type": "code",
   "execution_count": 39,
   "id": "d2d4c940-aa86-4f00-9f2e-8f37ddca47b7",
   "metadata": {},
   "outputs": [
    {
     "data": {
      "text/plain": [
       "[1, 1, 2, 3, 4, 3, 2, 3, 4, 4, 6, 7, 6]"
      ]
     },
     "execution_count": 39,
     "metadata": {},
     "output_type": "execute_result"
    }
   ],
   "source": [
    "my_list"
   ]
  },
  {
   "cell_type": "code",
   "execution_count": 40,
   "id": "3bd78fdd-ffa8-46bf-9836-0bd9f17e0dd4",
   "metadata": {},
   "outputs": [
    {
     "name": "stdout",
     "output_type": "stream",
     "text": [
      "[6, 7, 6, 4, 4, 3, 2, 3, 4, 3, 2, 1, 1]\n"
     ]
    }
   ],
   "source": [
    "print(my_list[::-1])"
   ]
  },
  {
   "cell_type": "code",
   "execution_count": 41,
   "id": "f432341d-1ab3-4e6b-8217-5d90511c933c",
   "metadata": {},
   "outputs": [],
   "source": [
    "list = [1,2,3,4,5]"
   ]
  },
  {
   "cell_type": "code",
   "execution_count": 42,
   "id": "011da5dc-f53c-44f1-b3c9-18d010066a1e",
   "metadata": {},
   "outputs": [
    {
     "name": "stdout",
     "output_type": "stream",
     "text": [
      "[5, 4, 3, 2, 1]\n"
     ]
    }
   ],
   "source": [
    "print(list[::-1])"
   ]
  },
  {
   "cell_type": "markdown",
   "id": "cff81cec-eedb-44ca-a947-21b47757c135",
   "metadata": {},
   "source": [
    "# 8. Find the second largest number in the list"
   ]
  },
  {
   "cell_type": "code",
   "execution_count": 48,
   "id": "9340df06-66d8-429e-85c7-0805b74a003f",
   "metadata": {},
   "outputs": [],
   "source": [
    "list2 = [3, 68,23,90,34,40]"
   ]
  },
  {
   "cell_type": "code",
   "execution_count": 51,
   "id": "560b7f98-5627-4125-9cbc-26dc9a3d0519",
   "metadata": {},
   "outputs": [
    {
     "data": {
      "text/plain": [
       "[3, 23, 34, 40, 68, 90]"
      ]
     },
     "execution_count": 51,
     "metadata": {},
     "output_type": "execute_result"
    }
   ],
   "source": [
    "list2.sort()\n",
    "list2"
   ]
  },
  {
   "cell_type": "code",
   "execution_count": 53,
   "id": "445e0b91-a679-46cf-ba1b-ca554b87d2d5",
   "metadata": {},
   "outputs": [
    {
     "name": "stdout",
     "output_type": "stream",
     "text": [
      "68\n"
     ]
    }
   ],
   "source": [
    "list2\n",
    "\n",
    "print(list2[-2])"
   ]
  },
  {
   "cell_type": "markdown",
   "id": "5f5b656c-7f32-41e2-a1c1-c5a5d1fddc14",
   "metadata": {},
   "source": [
    "# 9. Merge two sorted lists"
   ]
  },
  {
   "cell_type": "code",
   "execution_count": 54,
   "id": "6b31e5ba-d22e-4e88-bfc6-b32bb63630d2",
   "metadata": {},
   "outputs": [
    {
     "data": {
      "text/plain": [
       "[1, 2, 3, 4, 5]"
      ]
     },
     "execution_count": 54,
     "metadata": {},
     "output_type": "execute_result"
    }
   ],
   "source": [
    "list"
   ]
  },
  {
   "cell_type": "code",
   "execution_count": 55,
   "id": "fd3a5265-070e-4b6b-a7eb-41a9fcfb33f2",
   "metadata": {},
   "outputs": [
    {
     "data": {
      "text/plain": [
       "[3, 23, 34, 40, 68, 90]"
      ]
     },
     "execution_count": 55,
     "metadata": {},
     "output_type": "execute_result"
    }
   ],
   "source": [
    "list2"
   ]
  },
  {
   "cell_type": "code",
   "execution_count": 56,
   "id": "a605c92d-c208-4787-a5b2-0c8f86a6efe1",
   "metadata": {},
   "outputs": [],
   "source": [
    "merge_list = list + list2"
   ]
  },
  {
   "cell_type": "code",
   "execution_count": 57,
   "id": "1efaddb8-938a-46c4-98e1-dc03999ad18e",
   "metadata": {},
   "outputs": [
    {
     "data": {
      "text/plain": [
       "[1, 2, 3, 4, 5, 3, 23, 34, 40, 68, 90]"
      ]
     },
     "execution_count": 57,
     "metadata": {},
     "output_type": "execute_result"
    }
   ],
   "source": [
    "merge_list"
   ]
  },
  {
   "cell_type": "markdown",
   "id": "ce19cc39-2975-4188-96ad-a38d72ab8327",
   "metadata": {},
   "source": [
    "# 10. Check if a list is sorted or not"
   ]
  },
  {
   "cell_type": "code",
   "execution_count": 91,
   "id": "e425377b-87e2-4eb1-bb88-e29bcba59b7d",
   "metadata": {},
   "outputs": [],
   "source": [
    "list = [5,4,3,2,1]"
   ]
  },
  {
   "cell_type": "code",
   "execution_count": 92,
   "id": "7693d319-cf6b-4ff6-937e-37653f44a95b",
   "metadata": {},
   "outputs": [
    {
     "name": "stdout",
     "output_type": "stream",
     "text": [
      "No this list is not sorted\n"
     ]
    }
   ],
   "source": [
    "is_sorted = True\n",
    "\n",
    "for i in range(len(list)-1):\n",
    "    if list[i] < list[i+1]:\n",
    "        continue\n",
    "    else:\n",
    "        is_sorted = False\n",
    "        break\n",
    "if is_sorted:\n",
    "    print(\"yes this list is sorted \")\n",
    "else:\n",
    "    print(\"No this list is not sorted\")"
   ]
  },
  {
   "cell_type": "code",
   "execution_count": null,
   "id": "8bf8e6d2-5f2e-4dcd-bfda-97891ad3b516",
   "metadata": {},
   "outputs": [],
   "source": []
  },
  {
   "cell_type": "code",
   "execution_count": null,
   "id": "8dcc923f-5e6b-4440-a0e8-40f5327950ed",
   "metadata": {},
   "outputs": [],
   "source": []
  },
  {
   "cell_type": "code",
   "execution_count": null,
   "id": "c227eed9-760f-44db-aee4-1523d2562935",
   "metadata": {},
   "outputs": [],
   "source": []
  }
 ],
 "metadata": {
  "kernelspec": {
   "display_name": "Python 3 (ipykernel)",
   "language": "python",
   "name": "python3"
  },
  "language_info": {
   "codemirror_mode": {
    "name": "ipython",
    "version": 3
   },
   "file_extension": ".py",
   "mimetype": "text/x-python",
   "name": "python",
   "nbconvert_exporter": "python",
   "pygments_lexer": "ipython3",
   "version": "3.11.7"
  }
 },
 "nbformat": 4,
 "nbformat_minor": 5
}
