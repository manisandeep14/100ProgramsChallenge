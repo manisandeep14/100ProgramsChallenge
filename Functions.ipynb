{
 "cells": [
  {
   "cell_type": "markdown",
   "id": "a987106f-4cea-4b51-8947-263d1a090da2",
   "metadata": {},
   "source": [
    "# 1. Find the Gcd of two numbers"
   ]
  },
  {
   "cell_type": "code",
   "execution_count": 14,
   "id": "11198e80-f05d-41f3-b34b-ad3d62112bb5",
   "metadata": {},
   "outputs": [],
   "source": [
    "def greatestCommonDivisor(x, y):\n",
    "    while y != 0:\n",
    "        c = x % y\n",
    "        x = y \n",
    "        y = c\n",
    "    return x"
   ]
  },
  {
   "cell_type": "code",
   "execution_count": 15,
   "id": "aae8ad55-f81b-45ab-b9af-b8af9d3d091f",
   "metadata": {},
   "outputs": [
    {
     "data": {
      "text/plain": [
       "4"
      ]
     },
     "execution_count": 15,
     "metadata": {},
     "output_type": "execute_result"
    }
   ],
   "source": [
    "greatestCommonDivisor(12, 16)"
   ]
  },
  {
   "cell_type": "markdown",
   "id": "494acb13-59f5-493e-8479-465b226a3874",
   "metadata": {},
   "source": [
    "# 2. Find the Lcm of two Numbers"
   ]
  },
  {
   "cell_type": "code",
   "execution_count": 17,
   "id": "16ea2155-d484-4d53-af9c-26a4bbc85bd7",
   "metadata": {},
   "outputs": [],
   "source": [
    "one_variable = 12\n",
    "\n",
    "second_variable = 16\n",
    "\n",
    "Lcm = (one_variable * second_variable /greatestCommonDivisor(one_variable, second_variable))"
   ]
  },
  {
   "cell_type": "code",
   "execution_count": 18,
   "id": "258135e1-b7b9-48d5-a199-473592ba4b30",
   "metadata": {},
   "outputs": [
    {
     "data": {
      "text/plain": [
       "48.0"
      ]
     },
     "execution_count": 18,
     "metadata": {},
     "output_type": "execute_result"
    }
   ],
   "source": [
    "Lcm"
   ]
  },
  {
   "cell_type": "markdown",
   "id": "d3babd51-4fd7-44c5-b72d-766fba90e95d",
   "metadata": {},
   "source": [
    "# 3 . Check if a numbers is an armstrong number or not"
   ]
  },
  {
   "cell_type": "code",
   "execution_count": 31,
   "id": "e248052b-3aeb-42b5-96dd-5db891e58254",
   "metadata": {},
   "outputs": [],
   "source": [
    "def armstrongNum(num):\n",
    "    digits = len(str(num))\n",
    "    original_num = num\n",
    "    armstrong = 0\n",
    "    while num > 0:\n",
    "        d = num % 10\n",
    "        armstrong += d**digits\n",
    "        num //= 10\n",
    "    if original_num== armstrong:\n",
    "        print(f'{original_num} is an armstrong number.')\n",
    "    else:\n",
    "        print(f'{original_num} is not an armstrong number.')"
   ]
  },
  {
   "cell_type": "code",
   "execution_count": 33,
   "id": "d182d434-1a60-4ef2-9609-9b975419eb53",
   "metadata": {},
   "outputs": [
    {
     "name": "stdout",
     "output_type": "stream",
     "text": [
      "153 is an armstrong number.\n"
     ]
    }
   ],
   "source": [
    "armstrongNum(153)"
   ]
  },
  {
   "cell_type": "markdown",
   "id": "f4bcdd71-f20d-4fde-9239-1d0ff6ce81df",
   "metadata": {},
   "source": [
    "# 4. Checking a Perfect number"
   ]
  },
  {
   "cell_type": "code",
   "execution_count": 39,
   "id": "50ca8015-9cf8-4402-a6a7-3f43ada81ecc",
   "metadata": {},
   "outputs": [],
   "source": [
    "def perfect_num(num):\n",
    "    sum = 0\n",
    "    for i in range(1, num//2 + 1):\n",
    "        if num % i == 0:\n",
    "            sum += i\n",
    "            print(sum)\n",
    "\n",
    "    if sum == num:\n",
    "        print(f'{num} is  a perfect number.')\n",
    "    else:\n",
    "        print(f'{num} is not a perfect number.')"
   ]
  },
  {
   "cell_type": "code",
   "execution_count": 42,
   "id": "5b61b68d-883a-4f30-b214-292834bd32c8",
   "metadata": {},
   "outputs": [
    {
     "name": "stdout",
     "output_type": "stream",
     "text": [
      "1\n",
      "3\n",
      "10\n",
      "14 is not a perfect number.\n"
     ]
    }
   ],
   "source": [
    "perfect_num(14)"
   ]
  },
  {
   "cell_type": "code",
   "execution_count": 34,
   "id": "b8deff82-8e9b-458d-8f6b-037cdd007e11",
   "metadata": {},
   "outputs": [
    {
     "data": {
      "text/plain": [
       "3"
      ]
     },
     "execution_count": 34,
     "metadata": {},
     "output_type": "execute_result"
    }
   ],
   "source": [
    "6//2"
   ]
  },
  {
   "cell_type": "markdown",
   "id": "83d79d7c-ad96-4e1d-b0ed-85b80891b835",
   "metadata": {},
   "source": [
    "# 5. Checking a Strong NUmber"
   ]
  },
  {
   "cell_type": "code",
   "execution_count": 50,
   "id": "038c32c9-d08e-4264-abc2-61c62b443509",
   "metadata": {},
   "outputs": [],
   "source": [
    "def strong_number(num):\n",
    "    total = 0\n",
    "    while num > 0:\n",
    "        d = num%10\n",
    "        if d == 0:\n",
    "            print(1)\n",
    "        else:\n",
    "            fact = 1\n",
    "            for i in range(1, d+1):\n",
    "                fact = fact * i \n",
    "                #print(fact)\n",
    "            total = total + fact\n",
    "            num = num//10\n",
    "        print(total)"
   ]
  },
  {
   "cell_type": "code",
   "execution_count": 52,
   "id": "d000d5d1-0502-4246-a2cb-4b29a2312048",
   "metadata": {},
   "outputs": [
    {
     "name": "stdout",
     "output_type": "stream",
     "text": [
      "120\n",
      "144\n",
      "145\n"
     ]
    }
   ],
   "source": [
    "strong_number(145)"
   ]
  },
  {
   "cell_type": "markdown",
   "id": "5c54404c-28c8-4c2d-a6f7-0028f56d36d3",
   "metadata": {},
   "source": [
    "# 6. Convert decimal to binary"
   ]
  },
  {
   "cell_type": "code",
   "execution_count": 54,
   "id": "27e7ddcc-1ee9-4070-b0dd-c34a7a409299",
   "metadata": {},
   "outputs": [],
   "source": [
    "def dec_bin(num):\n",
    "    binary = ''\n",
    "    while num>0:\n",
    "        quo, rem = num//2, num%2\n",
    "        num = quo\n",
    "        binary += str(rem)\n",
    "    reverse = binary[::-1]\n",
    "    print(reverse)"
   ]
  },
  {
   "cell_type": "code",
   "execution_count": 55,
   "id": "2338c376-1ca3-42e4-89d6-c129ce028b1e",
   "metadata": {},
   "outputs": [
    {
     "data": {
      "text/plain": [
       "50"
      ]
     },
     "execution_count": 55,
     "metadata": {},
     "output_type": "execute_result"
    }
   ],
   "source": [
    "100//2"
   ]
  },
  {
   "cell_type": "code",
   "execution_count": 56,
   "id": "8311691c-091c-41a1-9797-ff42a37dd798",
   "metadata": {},
   "outputs": [
    {
     "name": "stdout",
     "output_type": "stream",
     "text": [
      "1100100\n"
     ]
    }
   ],
   "source": [
    "dec_bin(100)"
   ]
  },
  {
   "cell_type": "markdown",
   "id": "4f981cc4-9055-40c4-aa36-91bad01a1886",
   "metadata": {},
   "source": [
    "# 7. Convert binary to decimal"
   ]
  },
  {
   "cell_type": "code",
   "execution_count": 64,
   "id": "263b48a1-a6ee-45fe-a633-90197acf1f5b",
   "metadata": {},
   "outputs": [],
   "source": [
    "def bin_dec(num):\n",
    "    decimal = 0\n",
    "    for i in range(len(str(num))):\n",
    "        d = num%10\n",
    "        decimal += d * 2 ** i\n",
    "        #print(decimal)\n",
    "        num = num//10\n",
    "    print(decimal)"
   ]
  },
  {
   "cell_type": "code",
   "execution_count": 65,
   "id": "ee7c6645-46a9-4e1b-bad1-dea0517aa5ce",
   "metadata": {},
   "outputs": [
    {
     "name": "stdout",
     "output_type": "stream",
     "text": [
      "100\n"
     ]
    }
   ],
   "source": [
    "bin_dec(1100100)"
   ]
  },
  {
   "cell_type": "markdown",
   "id": "720156b8-d79b-4683-b2fd-6e132fdf8a3d",
   "metadata": {},
   "source": [
    "# 8. Convert decimal to octal"
   ]
  },
  {
   "cell_type": "code",
   "execution_count": 72,
   "id": "20d8ccb0-4d34-47a4-b53c-88b56af4da8f",
   "metadata": {},
   "outputs": [],
   "source": [
    "def dec_oct(num):\n",
    "    octa = ''\n",
    "    while num>0:\n",
    "        quo , rem = num//8, num%8\n",
    "        num = quo\n",
    "        octa += str(rem)\n",
    "    result = octa[::-1]\n",
    "    print(result)"
   ]
  },
  {
   "cell_type": "code",
   "execution_count": 73,
   "id": "2d0fc2f8-34e1-491c-b8f7-6033bf9de88f",
   "metadata": {},
   "outputs": [
    {
     "name": "stdout",
     "output_type": "stream",
     "text": [
      "144\n"
     ]
    }
   ],
   "source": [
    "dec_oct(100)"
   ]
  },
  {
   "cell_type": "markdown",
   "id": "5f141738-b1db-4498-a73f-1ec368877320",
   "metadata": {},
   "source": [
    "# 9. Convert decimal to Hexa decimal"
   ]
  },
  {
   "cell_type": "code",
   "execution_count": null,
   "id": "4b90f3ac-d460-473c-bc3d-7a2863631107",
   "metadata": {},
   "outputs": [],
   "source": [
    "hexa_digits = '0123456789ABCDEF'"
   ]
  },
  {
   "cell_type": "code",
   "execution_count": 76,
   "id": "2e1dc00e-2cd3-4817-ae0d-3e59665def16",
   "metadata": {},
   "outputs": [],
   "source": [
    "def dec_hexa(num):\n",
    "    hexa_digits = '0123456789ABCDEF'\n",
    "    hexa = ''\n",
    "    while num > 0:\n",
    "        quo, rem = num//16, num%16\n",
    "        num = quo\n",
    "        hexa += hexa_digits[rem]\n",
    "    result = hexa[::-1]\n",
    "    print(result)    "
   ]
  },
  {
   "cell_type": "code",
   "execution_count": 77,
   "id": "9b40cc55-80eb-4e9e-9f10-2c6552b9d73b",
   "metadata": {},
   "outputs": [
    {
     "name": "stdout",
     "output_type": "stream",
     "text": [
      "7E9\n"
     ]
    }
   ],
   "source": [
    "dec_hexa(2025)"
   ]
  },
  {
   "cell_type": "code",
   "execution_count": null,
   "id": "1c605fde-073f-41a3-9162-bfbc32269fe1",
   "metadata": {},
   "outputs": [],
   "source": []
  },
  {
   "cell_type": "markdown",
   "id": "b1b7dc88-9d7c-4c29-aab4-ef3cd8ea8429",
   "metadata": {},
   "source": [
    "# 10. Convert roman numbers to deciaml"
   ]
  },
  {
   "cell_type": "code",
   "execution_count": 80,
   "id": "33ba9f6e-929e-459d-b53e-e7f6b9625efe",
   "metadata": {},
   "outputs": [],
   "source": [
    "def roman_dec(roman):\n",
    "    roman_values = { 'I' : 1, 'V' : 5, 'X' : 10, 'L' : 50 , 'C': 100,'D' : 500, 'M' : 1000 }\n",
    "    total = 0\n",
    "    prev_value = 0 \n",
    "    for i in reversed(roman):\n",
    "        value = roman_values[i]\n",
    "        if value < prev_value:\n",
    "            total -= value\n",
    "        else:\n",
    "            total += value\n",
    "\n",
    "        prev_value = value\n",
    "\n",
    "        print(\"the total is\", total)\n",
    "    return total                    "
   ]
  },
  {
   "cell_type": "code",
   "execution_count": 82,
   "id": "d2dddad6-1d1f-461f-93f8-82ba529ee2ce",
   "metadata": {},
   "outputs": [
    {
     "name": "stdout",
     "output_type": "stream",
     "text": [
      "the total is 1\n",
      "the total is 2\n",
      "the total is 12\n"
     ]
    },
    {
     "data": {
      "text/plain": [
       "12"
      ]
     },
     "execution_count": 82,
     "metadata": {},
     "output_type": "execute_result"
    }
   ],
   "source": [
    "roman_dec(\"XII\")"
   ]
  },
  {
   "cell_type": "code",
   "execution_count": null,
   "id": "4c38d301-8b1b-4e0d-b1f1-9d2a0fa61fb3",
   "metadata": {},
   "outputs": [],
   "source": []
  },
  {
   "cell_type": "code",
   "execution_count": null,
   "id": "a9eeb8cd-a6db-48e5-8f12-b687a55ce426",
   "metadata": {},
   "outputs": [],
   "source": []
  }
 ],
 "metadata": {
  "kernelspec": {
   "display_name": "Python 3 (ipykernel)",
   "language": "python",
   "name": "python3"
  },
  "language_info": {
   "codemirror_mode": {
    "name": "ipython",
    "version": 3
   },
   "file_extension": ".py",
   "mimetype": "text/x-python",
   "name": "python",
   "nbconvert_exporter": "python",
   "pygments_lexer": "ipython3",
   "version": "3.11.7"
  }
 },
 "nbformat": 4,
 "nbformat_minor": 5
}
