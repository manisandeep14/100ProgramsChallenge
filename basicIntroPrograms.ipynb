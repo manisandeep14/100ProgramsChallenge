{
 "cells": [
  {
   "cell_type": "markdown",
   "id": "d069605d-e924-4c17-92eb-7970064b9c79",
   "metadata": {},
   "source": [
    "# 1.print hello world!"
   ]
  },
  {
   "cell_type": "code",
   "execution_count": 1,
   "id": "cc39a5c6-f181-48b7-94ec-f1d2d177c5a0",
   "metadata": {},
   "outputs": [
    {
     "name": "stdout",
     "output_type": "stream",
     "text": [
      "Hello, World!\n"
     ]
    }
   ],
   "source": [
    "print(\"Hello, World!\")"
   ]
  },
  {
   "cell_type": "code",
   "execution_count": null,
   "id": "85ede175-c6a5-453b-98b3-55c95d6f38aa",
   "metadata": {},
   "outputs": [],
   "source": []
  },
  {
   "cell_type": "markdown",
   "id": "60398428-090d-4a2c-98bf-cfa9f694ef46",
   "metadata": {},
   "source": [
    "# 2. Add two numbers"
   ]
  },
  {
   "cell_type": "code",
   "execution_count": 2,
   "id": "b603cc9e-e320-4d3f-bc15-7bdc89775f30",
   "metadata": {},
   "outputs": [
    {
     "name": "stdout",
     "output_type": "stream",
     "text": [
      "29\n"
     ]
    }
   ],
   "source": [
    "a = 14\n",
    "b = 15\n",
    "c = a+b\n",
    "print(c)"
   ]
  },
  {
   "cell_type": "code",
   "execution_count": null,
   "id": "eb03e6bf-6280-41c5-bb47-88e5d4373227",
   "metadata": {},
   "outputs": [],
   "source": []
  },
  {
   "cell_type": "markdown",
   "id": "9b467e78-391c-4ad5-9f7a-ddac1d0efc41",
   "metadata": {},
   "source": [
    "# 3. Swap two numbers"
   ]
  },
  {
   "cell_type": "code",
   "execution_count": 3,
   "id": "c273b970-55e0-4dc0-82eb-44afc0cdfc6b",
   "metadata": {},
   "outputs": [
    {
     "name": "stdout",
     "output_type": "stream",
     "text": [
      "before swap\n",
      "16\n",
      "32\n",
      "after swap\n",
      "32\n",
      "16\n"
     ]
    }
   ],
   "source": [
    "a = 16\n",
    "b = 32\n",
    "print(\"before swap\")\n",
    "print(a)\n",
    "print(b)\n",
    "\n",
    "a, b = b, a\n",
    "print(\"after swap\")\n",
    "print(a)\n",
    "print(b)"
   ]
  },
  {
   "cell_type": "code",
   "execution_count": null,
   "id": "460252ec-7649-4fb2-8e9f-4e8000214ef3",
   "metadata": {},
   "outputs": [],
   "source": []
  },
  {
   "cell_type": "markdown",
   "id": "8226ac55-6e19-4323-9fbd-8b15528fe8f6",
   "metadata": {},
   "source": [
    "# 4. Find the largest of three numbers"
   ]
  },
  {
   "cell_type": "code",
   "execution_count": 4,
   "id": "61643efc-5922-4f33-8472-20a7e297456d",
   "metadata": {},
   "outputs": [
    {
     "name": "stdout",
     "output_type": "stream",
     "text": [
      "b is greatest \n"
     ]
    }
   ],
   "source": [
    "a = 16 \n",
    "b = 32 \n",
    "c = 14\n",
    "\n",
    "if a > b and a > c :\n",
    "    print(\"a is greatest\")\n",
    "elif b > a and b > c :\n",
    "    print(\"b is greatest \")\n",
    "else:\n",
    "    print(\"c is greatest\")"
   ]
  },
  {
   "cell_type": "code",
   "execution_count": null,
   "id": "21a4c527-c04b-48e9-8f41-dc996d3effa4",
   "metadata": {},
   "outputs": [],
   "source": []
  },
  {
   "cell_type": "code",
   "execution_count": null,
   "id": "fd07ba5e-988f-4af2-b40c-71acfe614b68",
   "metadata": {},
   "outputs": [],
   "source": []
  },
  {
   "cell_type": "markdown",
   "id": "7e09e596-b69e-4c57-9c80-6e594fd3dd35",
   "metadata": {},
   "source": [
    "# 5. Check even or odd"
   ]
  },
  {
   "cell_type": "code",
   "execution_count": 6,
   "id": "00668dc5-4217-49ad-a24c-56169593cb4c",
   "metadata": {},
   "outputs": [
    {
     "name": "stdout",
     "output_type": "stream",
     "text": [
      "it is an odd number\n"
     ]
    }
   ],
   "source": [
    "a = 15\n",
    "\n",
    "if a % 2 == 0 :\n",
    "    print(\"it is an even number\")\n",
    "else:\n",
    "    print(\"it is an odd number\")"
   ]
  },
  {
   "cell_type": "code",
   "execution_count": null,
   "id": "84ed7daa-2d3b-4882-aa3b-b673a5abc004",
   "metadata": {},
   "outputs": [],
   "source": []
  },
  {
   "cell_type": "markdown",
   "id": "7b41ff04-c541-456d-b199-3ef9aa6fca98",
   "metadata": {},
   "source": [
    "# 6. Check positive or negative"
   ]
  },
  {
   "cell_type": "code",
   "execution_count": 10,
   "id": "8ad0de13-8c09-4e67-9e08-169e1eeb0ca1",
   "metadata": {},
   "outputs": [
    {
     "name": "stdout",
     "output_type": "stream",
     "text": [
      "it is zero\n"
     ]
    }
   ],
   "source": [
    "a = 0\n",
    "\n",
    "if a > 0 :\n",
    "    print(\"it is a positive number\")\n",
    "elif a == 0 :\n",
    "    print(\"it is zero\")\n",
    "else:\n",
    "    print(\"it is a negative number\")"
   ]
  },
  {
   "cell_type": "code",
   "execution_count": null,
   "id": "8f081863-7584-442e-92a4-08c4ecea178a",
   "metadata": {},
   "outputs": [],
   "source": []
  },
  {
   "cell_type": "code",
   "execution_count": null,
   "id": "567e6ac1-7cca-4827-8b3d-337bda7af3d6",
   "metadata": {},
   "outputs": [],
   "source": []
  },
  {
   "cell_type": "markdown",
   "id": "ca64292a-6df0-4094-b6c2-9f5e991ce5d0",
   "metadata": {},
   "source": [
    "# 7. Find Factorial"
   ]
  },
  {
   "cell_type": "code",
   "execution_count": 17,
   "id": "d61a46f6-6416-461c-9b16-a2e45c1ad9a8",
   "metadata": {},
   "outputs": [
    {
     "name": "stdout",
     "output_type": "stream",
     "text": [
      "6\n"
     ]
    }
   ],
   "source": [
    "a = 3\n",
    "\n",
    "if a == 0:\n",
    "    print(\"enter a  number greater than one \")\n",
    "else :\n",
    "    fact = 1\n",
    "    for i in range(1, a +1):\n",
    "        fact = fact * i\n",
    "print(fact)"
   ]
  },
  {
   "cell_type": "code",
   "execution_count": null,
   "id": "b2a11e1a-7fd1-451a-b787-b73cca9d3119",
   "metadata": {},
   "outputs": [],
   "source": []
  },
  {
   "cell_type": "code",
   "execution_count": null,
   "id": "9b308cac-7c19-41d7-8e07-b359d226fd3c",
   "metadata": {},
   "outputs": [],
   "source": []
  },
  {
   "cell_type": "markdown",
   "id": "64203707-1287-4d63-af0a-87b43bf45ac8",
   "metadata": {},
   "source": [
    "# 8. Power of a number"
   ]
  },
  {
   "cell_type": "code",
   "execution_count": 23,
   "id": "0af84710-effc-4cca-8d53-90c178a962db",
   "metadata": {},
   "outputs": [
    {
     "name": "stdout",
     "output_type": "stream",
     "text": [
      "1\n"
     ]
    }
   ],
   "source": [
    "a = 1\n",
    "b = 3\n",
    "\n",
    "c = a ** b\n",
    "print(c)"
   ]
  },
  {
   "cell_type": "code",
   "execution_count": null,
   "id": "1608dcc5-8903-4fe2-ba0d-a974d6e1b99b",
   "metadata": {},
   "outputs": [],
   "source": []
  },
  {
   "cell_type": "code",
   "execution_count": null,
   "id": "92592fc3-485a-4efa-80fa-80014aa9fdf4",
   "metadata": {},
   "outputs": [],
   "source": []
  },
  {
   "cell_type": "markdown",
   "id": "6d6c1cdf-34ed-4b00-9c47-7fe8cb151938",
   "metadata": {},
   "source": [
    "# 9. Finding the sum of digits of a number"
   ]
  },
  {
   "cell_type": "code",
   "execution_count": 24,
   "id": "ba9e20ea-9ef7-4931-8dc3-c111d428557d",
   "metadata": {},
   "outputs": [
    {
     "name": "stdout",
     "output_type": "stream",
     "text": [
      "6\n"
     ]
    }
   ],
   "source": [
    "a = 123\n",
    "sod = 0\n",
    "while a > 0:\n",
    "    digit = a % 10\n",
    "    sod = sod + digit\n",
    "    a = a//10\n",
    "print(sod)"
   ]
  },
  {
   "cell_type": "code",
   "execution_count": null,
   "id": "1eb1d87a-8c76-4a83-8df3-e39bcb3aee4d",
   "metadata": {},
   "outputs": [],
   "source": []
  },
  {
   "cell_type": "code",
   "execution_count": null,
   "id": "86e5bb0a-1ac6-457b-82e9-d79a24583542",
   "metadata": {},
   "outputs": [],
   "source": []
  },
  {
   "cell_type": "markdown",
   "id": "5dd64be2-9d58-41bc-9bc4-cb61740ba14d",
   "metadata": {},
   "source": [
    "# 10. Reverse the number"
   ]
  },
  {
   "cell_type": "code",
   "execution_count": 25,
   "id": "454e013e-e6f7-4444-b646-7c107122d9fb",
   "metadata": {},
   "outputs": [
    {
     "name": "stdout",
     "output_type": "stream",
     "text": [
      "321\n"
     ]
    }
   ],
   "source": [
    "a = 123\n",
    "rev = 0\n",
    "while a > 0:\n",
    "    digit = a % 10\n",
    "    rev = rev *10 + digit\n",
    "    a = a//10\n",
    "\n",
    "print(rev)"
   ]
  },
  {
   "cell_type": "code",
   "execution_count": null,
   "id": "adc6c40f-74a8-4099-9110-97744c1deda9",
   "metadata": {},
   "outputs": [],
   "source": []
  },
  {
   "cell_type": "code",
   "execution_count": null,
   "id": "03d810f1-e9bd-4a87-901c-a9d9b0d239d3",
   "metadata": {},
   "outputs": [],
   "source": []
  },
  {
   "cell_type": "code",
   "execution_count": null,
   "id": "2a7ee482-64c0-4ab7-a6bb-27aff72ddce6",
   "metadata": {},
   "outputs": [],
   "source": []
  }
 ],
 "metadata": {
  "kernelspec": {
   "display_name": "Python 3 (ipykernel)",
   "language": "python",
   "name": "python3"
  },
  "language_info": {
   "codemirror_mode": {
    "name": "ipython",
    "version": 3
   },
   "file_extension": ".py",
   "mimetype": "text/x-python",
   "name": "python",
   "nbconvert_exporter": "python",
   "pygments_lexer": "ipython3",
   "version": "3.11.7"
  }
 },
 "nbformat": 4,
 "nbformat_minor": 5
}
